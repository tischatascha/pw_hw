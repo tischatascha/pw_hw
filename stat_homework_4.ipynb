{
 "cells": [
  {
   "cell_type": "markdown",
   "metadata": {
    "colab_type": "text",
    "id": "view-in-github"
   },
   "source": [
    "<a href=\"https://colab.research.google.com/github/yustinaivanova/netology_statistics/blob/master/dz_2.ipynb\" target=\"_parent\"><img src=\"https://colab.research.google.com/assets/colab-badge.svg\" alt=\"Open In Colab\"/></a>"
   ]
  },
  {
   "cell_type": "markdown",
   "metadata": {},
   "source": [
    "# Домашняя работа №4"
   ]
  },
  {
   "cell_type": "markdown",
   "metadata": {
    "colab_type": "text",
    "id": "9wqpiQR2AbtX"
   },
   "source": [
    "# Виды распределений"
   ]
  },
  {
   "cell_type": "markdown",
   "metadata": {
    "colab_type": "text",
    "id": "V3N8qycM-xP9"
   },
   "source": [
    "Загрузить таблицу и построить график распределений. Найти нормальное распределение."
   ]
  },
  {
   "cell_type": "code",
   "execution_count": 1,
   "metadata": {
    "colab": {},
    "colab_type": "code",
    "id": "Zo_j9HCKCPgi"
   },
   "outputs": [],
   "source": [
    "import numpy as np\n",
    "from scipy.stats import t\n",
    "from scipy.stats import norm\n",
    "import matplotlib.pyplot as plt\n",
    "from scipy import stats\n",
    "import pandas as pd\n",
    "import io\n",
    "import requests\n",
    "import seaborn as sns\n",
    "import statistics\n",
    "from scipy.stats import pearsonr\n",
    "from sklearn.metrics import mean_squared_error, mean_absolute_error\n",
    "import random\n",
    "%matplotlib inline"
   ]
  },
  {
   "cell_type": "markdown",
   "metadata": {
    "colab_type": "text",
    "id": "LrhPyaIACZsb"
   },
   "source": [
    "Таблица цен на дома в Бостоне"
   ]
  },
  {
   "cell_type": "markdown",
   "metadata": {
    "colab_type": "text",
    "id": "XyNNmtvIDDy3"
   },
   "source": [
    "Основные значения:\n",
    "\n",
    "* CRIM: This is the per capita crime rate by town\n",
    "* ZN: This is the proportion of residential land zoned for lots larger than 25,000 sq.ft.\n",
    "* INDUS: This is the proportion of non-retail business acres per town.\n",
    "* CHAS: This is the Charles River dummy variable (this is equal to 1 if tract bounds river; 0 otherwise)\n",
    "* NOX: This is the nitric oxides concentration (parts per 10 million)\n",
    "* RM: This is the average number of rooms per dwelling\n",
    "* AGE: This is the proportion of owner-occupied units built prior to 1940\n",
    "* DIS: This is the weighted distances to five Boston employment centers\n",
    "* RAD: This is the index of accessibility to radial highways\n",
    "* TAX: This is the full-value property-tax rate per 10,000 dollars\n",
    "* PTRATIO: This is the pupil-teacher ratio by town\n",
    "* B: This is calculated as 1000(Bk — 0.63)², where Bk is the proportion of people of African American descent by town\n",
    "* LSTAT: This is the percentage lower status of the population\n",
    "* MEDV: This is the median value of owner-occupied homes in 1000 dollars"
   ]
  },
  {
   "cell_type": "code",
   "execution_count": 2,
   "metadata": {
    "colab": {
     "base_uri": "https://localhost:8080/",
     "height": 204
    },
    "colab_type": "code",
    "id": "Ona1gs72CZOq",
    "outputId": "455f9f96-3f49-4eb7-c928-fc732141d834"
   },
   "outputs": [
    {
     "data": {
      "text/html": [
       "<div>\n",
       "<style scoped>\n",
       "    .dataframe tbody tr th:only-of-type {\n",
       "        vertical-align: middle;\n",
       "    }\n",
       "\n",
       "    .dataframe tbody tr th {\n",
       "        vertical-align: top;\n",
       "    }\n",
       "\n",
       "    .dataframe thead th {\n",
       "        text-align: right;\n",
       "    }\n",
       "</style>\n",
       "<table border=\"1\" class=\"dataframe\">\n",
       "  <thead>\n",
       "    <tr style=\"text-align: right;\">\n",
       "      <th></th>\n",
       "      <th>CRIM</th>\n",
       "      <th>ZN</th>\n",
       "      <th>INDUS</th>\n",
       "      <th>CHAS</th>\n",
       "      <th>NOX</th>\n",
       "      <th>RM</th>\n",
       "      <th>AGE</th>\n",
       "      <th>DIS</th>\n",
       "      <th>RAD</th>\n",
       "      <th>TAX</th>\n",
       "      <th>PTRATIO</th>\n",
       "      <th>B</th>\n",
       "      <th>LSTAT</th>\n",
       "      <th>MEDV</th>\n",
       "    </tr>\n",
       "  </thead>\n",
       "  <tbody>\n",
       "    <tr>\n",
       "      <th>0</th>\n",
       "      <td>0.00632</td>\n",
       "      <td>18.0</td>\n",
       "      <td>2.31</td>\n",
       "      <td>0</td>\n",
       "      <td>0.538</td>\n",
       "      <td>6.575</td>\n",
       "      <td>65.2</td>\n",
       "      <td>4.0900</td>\n",
       "      <td>1</td>\n",
       "      <td>296.0</td>\n",
       "      <td>15.3</td>\n",
       "      <td>396.90</td>\n",
       "      <td>4.98</td>\n",
       "      <td>24.0</td>\n",
       "    </tr>\n",
       "    <tr>\n",
       "      <th>1</th>\n",
       "      <td>0.02731</td>\n",
       "      <td>0.0</td>\n",
       "      <td>7.07</td>\n",
       "      <td>0</td>\n",
       "      <td>0.469</td>\n",
       "      <td>6.421</td>\n",
       "      <td>78.9</td>\n",
       "      <td>4.9671</td>\n",
       "      <td>2</td>\n",
       "      <td>242.0</td>\n",
       "      <td>17.8</td>\n",
       "      <td>396.90</td>\n",
       "      <td>9.14</td>\n",
       "      <td>21.6</td>\n",
       "    </tr>\n",
       "    <tr>\n",
       "      <th>2</th>\n",
       "      <td>0.02729</td>\n",
       "      <td>0.0</td>\n",
       "      <td>7.07</td>\n",
       "      <td>0</td>\n",
       "      <td>0.469</td>\n",
       "      <td>7.185</td>\n",
       "      <td>61.1</td>\n",
       "      <td>4.9671</td>\n",
       "      <td>2</td>\n",
       "      <td>242.0</td>\n",
       "      <td>17.8</td>\n",
       "      <td>392.83</td>\n",
       "      <td>4.03</td>\n",
       "      <td>34.7</td>\n",
       "    </tr>\n",
       "    <tr>\n",
       "      <th>3</th>\n",
       "      <td>0.03237</td>\n",
       "      <td>0.0</td>\n",
       "      <td>2.18</td>\n",
       "      <td>0</td>\n",
       "      <td>0.458</td>\n",
       "      <td>6.998</td>\n",
       "      <td>45.8</td>\n",
       "      <td>6.0622</td>\n",
       "      <td>3</td>\n",
       "      <td>222.0</td>\n",
       "      <td>18.7</td>\n",
       "      <td>394.63</td>\n",
       "      <td>2.94</td>\n",
       "      <td>33.4</td>\n",
       "    </tr>\n",
       "    <tr>\n",
       "      <th>4</th>\n",
       "      <td>0.06905</td>\n",
       "      <td>0.0</td>\n",
       "      <td>2.18</td>\n",
       "      <td>0</td>\n",
       "      <td>0.458</td>\n",
       "      <td>7.147</td>\n",
       "      <td>54.2</td>\n",
       "      <td>6.0622</td>\n",
       "      <td>3</td>\n",
       "      <td>222.0</td>\n",
       "      <td>18.7</td>\n",
       "      <td>396.90</td>\n",
       "      <td>5.33</td>\n",
       "      <td>36.2</td>\n",
       "    </tr>\n",
       "  </tbody>\n",
       "</table>\n",
       "</div>"
      ],
      "text/plain": [
       "      CRIM    ZN  INDUS  CHAS    NOX     RM   AGE     DIS  RAD    TAX  \\\n",
       "0  0.00632  18.0   2.31     0  0.538  6.575  65.2  4.0900    1  296.0   \n",
       "1  0.02731   0.0   7.07     0  0.469  6.421  78.9  4.9671    2  242.0   \n",
       "2  0.02729   0.0   7.07     0  0.469  7.185  61.1  4.9671    2  242.0   \n",
       "3  0.03237   0.0   2.18     0  0.458  6.998  45.8  6.0622    3  222.0   \n",
       "4  0.06905   0.0   2.18     0  0.458  7.147  54.2  6.0622    3  222.0   \n",
       "\n",
       "   PTRATIO       B  LSTAT  MEDV  \n",
       "0     15.3  396.90   4.98  24.0  \n",
       "1     17.8  396.90   9.14  21.6  \n",
       "2     17.8  392.83   4.03  34.7  \n",
       "3     18.7  394.63   2.94  33.4  \n",
       "4     18.7  396.90   5.33  36.2  "
      ]
     },
     "execution_count": 2,
     "metadata": {},
     "output_type": "execute_result"
    }
   ],
   "source": [
    "import ssl\n",
    "# следующая строчка подключает сертификат для защищенного соединения\n",
    "ssl._create_default_https_context = ssl._create_unverified_context\n",
    "url='http://yustiks.ru/dataset/housing.csv'\n",
    "names = ['CRIM', 'ZN', 'INDUS', 'CHAS', 'NOX', 'RM', 'AGE', 'DIS', 'RAD', 'TAX', 'PTRATIO', 'B', 'LSTAT', 'MEDV']\n",
    "data=pd.read_csv(url,  delim_whitespace=True, names=names)\n",
    "data.head()"
   ]
  },
  {
   "cell_type": "markdown",
   "metadata": {
    "colab_type": "text",
    "id": "KwpYBJZiE1EO"
   },
   "source": [
    "Нарисовать частотные графики для всех значений. Можете ли вы найти следующие распределения в данных графиках?\n",
    "\n",
    "\n",
    "1.   Нормальное\n",
    "2.   Равномерное\n",
    "3.   Биноминальное\n",
    "4.   Бернулли\n",
    "5.   Геометрическое\n",
    "6.   Логнормальное\n",
    "\n"
   ]
  },
  {
   "cell_type": "code",
   "execution_count": 27,
   "metadata": {},
   "outputs": [
    {
     "data": {
      "image/png": "[encoded data removed]",
      "text/plain": [
       "<Figure size 432x288 with 16 Axes>"
      ]
     },
     "metadata": {
      "needs_background": "light"
     },
     "output_type": "display_data"
    }
   ],
   "source": [
    "fig, axes = plt.subplots(nrows=4, ncols=4)\n",
    "#plt.figure(figsize=(25,10))\n",
    "for i, column in enumerate(data.columns):\n",
    "    sns.distplot(data[column],ax=axes[i//4,i%4])"
   ]
  },
  {
   "cell_type": "code",
   "execution_count": 28,
   "metadata": {},
   "outputs": [
    {
     "data": {
      "text/plain": [
       "<matplotlib.axes._subplots.AxesSubplot at 0x188eb041c18>"
      ]
     },
     "execution_count": 28,
     "metadata": {},
     "output_type": "execute_result"
    },
    {
     "data": {
      "image/png": "[encoded data removed]",
      "text/plain": [
       "<Figure size 432x288 with 1 Axes>"
      ]
     },
     "metadata": {
      "needs_background": "light"
     },
     "output_type": "display_data"
    }
   ],
   "source": [
    "# RM похоже на нормальное распределение\n",
    "sns.distplot(data['RM'])"
   ]
  },
  {
   "cell_type": "code",
   "execution_count": 29,
   "metadata": {},
   "outputs": [
    {
     "data": {
      "text/plain": [
       "<matplotlib.axes._subplots.AxesSubplot at 0x188eb2617f0>"
      ]
     },
     "execution_count": 29,
     "metadata": {},
     "output_type": "execute_result"
    },
    {
     "data": {
      "image/png": "[encoded data removed]",
      "text/plain": [
       "<Figure size 432x288 with 1 Axes>"
      ]
     },
     "metadata": {
      "needs_background": "light"
     },
     "output_type": "display_data"
    }
   ],
   "source": [
    "# похоже на Бета-распределение\n",
    "sns.distplot(data['CHAS'])"
   ]
  },
  {
   "cell_type": "code",
   "execution_count": 30,
   "metadata": {},
   "outputs": [
    {
     "data": {
      "text/plain": [
       "<matplotlib.axes._subplots.AxesSubplot at 0x188e9ee6588>"
      ]
     },
     "execution_count": 30,
     "metadata": {},
     "output_type": "execute_result"
    },
    {
     "data": {
      "image/png": "[encoded data removed]",
      "text/plain": [
       "<Figure size 432x288 with 1 Axes>"
      ]
     },
     "metadata": {
      "needs_background": "light"
     },
     "output_type": "display_data"
    }
   ],
   "source": [
    "# похоже на Лог-логистическое распределение\n",
    "sns.distplot(data['CRIM'])"
   ]
  },
  {
   "cell_type": "code",
   "execution_count": 36,
   "metadata": {},
   "outputs": [
    {
     "data": {
      "text/plain": [
       "<matplotlib.axes._subplots.AxesSubplot at 0x188eb5c01d0>"
      ]
     },
     "execution_count": 36,
     "metadata": {},
     "output_type": "execute_result"
    },
    {
     "data": {
      "image/png": "[encoded data removed]",
      "text/plain": [
       "<Figure size 432x288 with 1 Axes>"
      ]
     },
     "metadata": {
      "needs_background": "light"
     },
     "output_type": "display_data"
    }
   ],
   "source": [
    "# похоже на распределении Chi-square \n",
    "# либо экспоненицальное \n",
    "# либо Gamma\n",
    "sns.distplot(data['DIS'])"
   ]
  },
  {
   "cell_type": "markdown",
   "metadata": {},
   "source": [
    "Построить матрицу корреляций для данной таблицы и выбрать максимально коррелирующий атрибут (несколько атрибутов) с ценой на дома (MEDV атрибут)."
   ]
  },
  {
   "cell_type": "markdown",
   "metadata": {},
   "source": [
    "**Самое большое положительное значение с переменной RM (average number of rooms per dwelling), самое большое отрицательное с LSTAT (percentage lower status of the population), в принципе ничего удивительного нет**"
   ]
  },
  {
   "cell_type": "code",
   "execution_count": 4,
   "metadata": {},
   "outputs": [
    {
     "data": {
      "text/html": [
       "<style  type=\"text/css\" >\n",
       "    #T_97958c10_e135_11ea_a1b1_3c528273b271row0_col0 {\n",
       "            background-color:  #b40426;\n",
       "        }    #T_97958c10_e135_11ea_a1b1_3c528273b271row0_col1 {\n",
       "            background-color:  #88abfd;\n",
       "        }    #T_97958c10_e135_11ea_a1b1_3c528273b271row0_col2 {\n",
       "            background-color:  #f7bca1;\n",
       "        }    #T_97958c10_e135_11ea_a1b1_3c528273b271row0_col3 {\n",
       "            background-color:  #4b64d5;\n",
       "        }    #T_97958c10_e135_11ea_a1b1_3c528273b271row0_col4 {\n",
       "            background-color:  #f7b599;\n",
       "        }    #T_97958c10_e135_11ea_a1b1_3c528273b271row0_col5 {\n",
       "            background-color:  #8badfd;\n",
       "        }    #T_97958c10_e135_11ea_a1b1_3c528273b271row0_col6 {\n",
       "            background-color:  #f5c2aa;\n",
       "        }    #T_97958c10_e135_11ea_a1b1_3c528273b271row0_col7 {\n",
       "            background-color:  #82a6fb;\n",
       "        }    #T_97958c10_e135_11ea_a1b1_3c528273b271row0_col8 {\n",
       "            background-color:  #f49a7b;\n",
       "        }    #T_97958c10_e135_11ea_a1b1_3c528273b271row0_col9 {\n",
       "            background-color:  #f6a283;\n",
       "        }    #T_97958c10_e135_11ea_a1b1_3c528273b271row0_col10 {\n",
       "            background-color:  #e4d9d2;\n",
       "        }    #T_97958c10_e135_11ea_a1b1_3c528273b271row0_col11 {\n",
       "            background-color:  #465ecf;\n",
       "        }    #T_97958c10_e135_11ea_a1b1_3c528273b271row0_col12 {\n",
       "            background-color:  #f7b194;\n",
       "        }    #T_97958c10_e135_11ea_a1b1_3c528273b271row0_col13 {\n",
       "            background-color:  #7b9ff9;\n",
       "        }    #T_97958c10_e135_11ea_a1b1_3c528273b271row1_col0 {\n",
       "            background-color:  #6485ec;\n",
       "        }    #T_97958c10_e135_11ea_a1b1_3c528273b271row1_col1 {\n",
       "            background-color:  #b40426;\n",
       "        }    #T_97958c10_e135_11ea_a1b1_3c528273b271row1_col2 {\n",
       "            background-color:  #5a78e4;\n",
       "        }    #T_97958c10_e135_11ea_a1b1_3c528273b271row1_col3 {\n",
       "            background-color:  #4f69d9;\n",
       "        }    #T_97958c10_e135_11ea_a1b1_3c528273b271row1_col4 {\n",
       "            background-color:  #6788ee;\n",
       "        }    #T_97958c10_e135_11ea_a1b1_3c528273b271row1_col5 {\n",
       "            background-color:  #edd1c2;\n",
       "        }    #T_97958c10_e135_11ea_a1b1_3c528273b271row1_col6 {\n",
       "            background-color:  #5a78e4;\n",
       "        }    #T_97958c10_e135_11ea_a1b1_3c528273b271row1_col7 {\n",
       "            background-color:  #ec7f63;\n",
       "        }    #T_97958c10_e135_11ea_a1b1_3c528273b271row1_col8 {\n",
       "            background-color:  #6180e9;\n",
       "        }    #T_97958c10_e135_11ea_a1b1_3c528273b271row1_col9 {\n",
       "            background-color:  #6788ee;\n",
       "        }    #T_97958c10_e135_11ea_a1b1_3c528273b271row1_col10 {\n",
       "            background-color:  #516ddb;\n",
       "        }    #T_97958c10_e135_11ea_a1b1_3c528273b271row1_col11 {\n",
       "            background-color:  #c9d7f0;\n",
       "        }    #T_97958c10_e135_11ea_a1b1_3c528273b271row1_col12 {\n",
       "            background-color:  #7699f6;\n",
       "        }    #T_97958c10_e135_11ea_a1b1_3c528273b271row1_col13 {\n",
       "            background-color:  #f5c2aa;\n",
       "        }    #T_97958c10_e135_11ea_a1b1_3c528273b271row2_col0 {\n",
       "            background-color:  #edd1c2;\n",
       "        }    #T_97958c10_e135_11ea_a1b1_3c528273b271row2_col1 {\n",
       "            background-color:  #4055c8;\n",
       "        }    #T_97958c10_e135_11ea_a1b1_3c528273b271row2_col2 {\n",
       "            background-color:  #b40426;\n",
       "        }    #T_97958c10_e135_11ea_a1b1_3c528273b271row2_col3 {\n",
       "            background-color:  #6f92f3;\n",
       "        }    #T_97958c10_e135_11ea_a1b1_3c528273b271row2_col4 {\n",
       "            background-color:  #e0654f;\n",
       "        }    #T_97958c10_e135_11ea_a1b1_3c528273b271row2_col5 {\n",
       "            background-color:  #6687ed;\n",
       "        }    #T_97958c10_e135_11ea_a1b1_3c528273b271row2_col6 {\n",
       "            background-color:  #ee8669;\n",
       "        }    #T_97958c10_e135_11ea_a1b1_3c528273b271row2_col7 {\n",
       "            background-color:  #445acc;\n",
       "        }    #T_97958c10_e135_11ea_a1b1_3c528273b271row2_col8 {\n",
       "            background-color:  #f6a283;\n",
       "        }    #T_97958c10_e135_11ea_a1b1_3c528273b271row2_col9 {\n",
       "            background-color:  #ea7b60;\n",
       "        }    #T_97958c10_e135_11ea_a1b1_3c528273b271row2_col10 {\n",
       "            background-color:  #f1cdba;\n",
       "        }    #T_97958c10_e135_11ea_a1b1_3c528273b271row2_col11 {\n",
       "            background-color:  #4c66d6;\n",
       "        }    #T_97958c10_e135_11ea_a1b1_3c528273b271row2_col12 {\n",
       "            background-color:  #f29072;\n",
       "        }    #T_97958c10_e135_11ea_a1b1_3c528273b271row2_col13 {\n",
       "            background-color:  #688aef;\n",
       "        }    #T_97958c10_e135_11ea_a1b1_3c528273b271row3_col0 {\n",
       "            background-color:  #89acfd;\n",
       "        }    #T_97958c10_e135_11ea_a1b1_3c528273b271row3_col1 {\n",
       "            background-color:  #aac7fd;\n",
       "        }    #T_97958c10_e135_11ea_a1b1_3c528273b271row3_col2 {\n",
       "            background-color:  #cfdaea;\n",
       "        }    #T_97958c10_e135_11ea_a1b1_3c528273b271row3_col3 {\n",
       "            background-color:  #b40426;\n",
       "        }    #T_97958c10_e135_11ea_a1b1_3c528273b271row3_col4 {\n",
       "            background-color:  #d9dce1;\n",
       "        }    #T_97958c10_e135_11ea_a1b1_3c528273b271row3_col5 {\n",
       "            background-color:  #cbd8ee;\n",
       "        }    #T_97958c10_e135_11ea_a1b1_3c528273b271row3_col6 {\n",
       "            background-color:  #d7dce3;\n",
       "        }    #T_97958c10_e135_11ea_a1b1_3c528273b271row3_col7 {\n",
       "            background-color:  #b9d0f9;\n",
       "        }    #T_97958c10_e135_11ea_a1b1_3c528273b271row3_col8 {\n",
       "            background-color:  #a7c5fe;\n",
       "        }    #T_97958c10_e135_11ea_a1b1_3c528273b271row3_col9 {\n",
       "            background-color:  #a7c5fe;\n",
       "        }    #T_97958c10_e135_11ea_a1b1_3c528273b271row3_col10 {\n",
       "            background-color:  #8fb1fe;\n",
       "        }    #T_97958c10_e135_11ea_a1b1_3c528273b271row3_col11 {\n",
       "            background-color:  #adc9fd;\n",
       "        }    #T_97958c10_e135_11ea_a1b1_3c528273b271row3_col12 {\n",
       "            background-color:  #bed2f6;\n",
       "        }    #T_97958c10_e135_11ea_a1b1_3c528273b271row3_col13 {\n",
       "            background-color:  #e3d9d3;\n",
       "        }    #T_97958c10_e135_11ea_a1b1_3c528273b271row4_col0 {\n",
       "            background-color:  #efcebd;\n",
       "        }    #T_97958c10_e135_11ea_a1b1_3c528273b271row4_col1 {\n",
       "            background-color:  #445acc;\n",
       "        }    #T_97958c10_e135_11ea_a1b1_3c528273b271row4_col2 {\n",
       "            background-color:  #e16751;\n",
       "        }    #T_97958c10_e135_11ea_a1b1_3c528273b271row4_col3 {\n",
       "            background-color:  #779af7;\n",
       "        }    #T_97958c10_e135_11ea_a1b1_3c528273b271row4_col4 {\n",
       "            background-color:  #b40426;\n",
       "        }    #T_97958c10_e135_11ea_a1b1_3c528273b271row4_col5 {\n",
       "            background-color:  #799cf8;\n",
       "        }    #T_97958c10_e135_11ea_a1b1_3c528273b271row4_col6 {\n",
       "            background-color:  #e46e56;\n",
       "        }    #T_97958c10_e135_11ea_a1b1_3c528273b271row4_col7 {\n",
       "            background-color:  #3b4cc0;\n",
       "        }    #T_97958c10_e135_11ea_a1b1_3c528273b271row4_col8 {\n",
       "            background-color:  #f59d7e;\n",
       "        }    #T_97958c10_e135_11ea_a1b1_3c528273b271row4_col9 {\n",
       "            background-color:  #f08b6e;\n",
       "        }    #T_97958c10_e135_11ea_a1b1_3c528273b271row4_col10 {\n",
       "            background-color:  #d3dbe7;\n",
       "        }    #T_97958c10_e135_11ea_a1b1_3c528273b271row4_col11 {\n",
       "            background-color:  #485fd1;\n",
       "        }    #T_97958c10_e135_11ea_a1b1_3c528273b271row4_col12 {\n",
       "            background-color:  #f39475;\n",
       "        }    #T_97958c10_e135_11ea_a1b1_3c528273b271row4_col13 {\n",
       "            background-color:  #7396f5;\n",
       "        }    #T_97958c10_e135_11ea_a1b1_3c528273b271row5_col0 {\n",
       "            background-color:  #6180e9;\n",
       "        }    #T_97958c10_e135_11ea_a1b1_3c528273b271row5_col1 {\n",
       "            background-color:  #ebd3c6;\n",
       "        }    #T_97958c10_e135_11ea_a1b1_3c528273b271row5_col2 {\n",
       "            background-color:  #7699f6;\n",
       "        }    #T_97958c10_e135_11ea_a1b1_3c528273b271row5_col3 {\n",
       "            background-color:  #779af7;\n",
       "        }    #T_97958c10_e135_11ea_a1b1_3c528273b271row5_col4 {\n",
       "            background-color:  #92b4fe;\n",
       "        }    #T_97958c10_e135_11ea_a1b1_3c528273b271row5_col5 {\n",
       "            background-color:  #b40426;\n",
       "        }    #T_97958c10_e135_11ea_a1b1_3c528273b271row5_col6 {\n",
       "            background-color:  #9bbcff;\n",
       "        }    #T_97958c10_e135_11ea_a1b1_3c528273b271row5_col7 {\n",
       "            background-color:  #ead5c9;\n",
       "        }    #T_97958c10_e135_11ea_a1b1_3c528273b271row5_col8 {\n",
       "            background-color:  #779af7;\n",
       "        }    #T_97958c10_e135_11ea_a1b1_3c528273b271row5_col9 {\n",
       "            background-color:  #6c8ff1;\n",
       "        }    #T_97958c10_e135_11ea_a1b1_3c528273b271row5_col10 {\n",
       "            background-color:  #5977e3;\n",
       "        }    #T_97958c10_e135_11ea_a1b1_3c528273b271row5_col11 {\n",
       "            background-color:  #bfd3f6;\n",
       "        }    #T_97958c10_e135_11ea_a1b1_3c528273b271row5_col12 {\n",
       "            background-color:  #506bda;\n",
       "        }    #T_97958c10_e135_11ea_a1b1_3c528273b271row5_col13 {\n",
       "            background-color:  #e9785d;\n",
       "        }    #T_97958c10_e135_11ea_a1b1_3c528273b271row6_col0 {\n",
       "            background-color:  #e5d8d1;\n",
       "        }    #T_97958c10_e135_11ea_a1b1_3c528273b271row6_col1 {\n",
       "            background-color:  #3b4cc0;\n",
       "        }    #T_97958c10_e135_11ea_a1b1_3c528273b271row6_col2 {\n",
       "            background-color:  #ef886b;\n",
       "        }    #T_97958c10_e135_11ea_a1b1_3c528273b271row6_col3 {\n",
       "            background-color:  #7699f6;\n",
       "        }    #T_97958c10_e135_11ea_a1b1_3c528273b271row6_col4 {\n",
       "            background-color:  #e36c55;\n",
       "        }    #T_97958c10_e135_11ea_a1b1_3c528273b271row6_col5 {\n",
       "            background-color:  #86a9fc;\n",
       "        }    #T_97958c10_e135_11ea_a1b1_3c528273b271row6_col6 {\n",
       "            background-color:  #b40426;\n",
       "        }    #T_97958c10_e135_11ea_a1b1_3c528273b271row6_col7 {\n",
       "            background-color:  #3e51c5;\n",
       "        }    #T_97958c10_e135_11ea_a1b1_3c528273b271row6_col8 {\n",
       "            background-color:  #f5c1a9;\n",
       "        }    #T_97958c10_e135_11ea_a1b1_3c528273b271row6_col9 {\n",
       "            background-color:  #f7b497;\n",
       "        }    #T_97958c10_e135_11ea_a1b1_3c528273b271row6_col10 {\n",
       "            background-color:  #dfdbd9;\n",
       "        }    #T_97958c10_e135_11ea_a1b1_3c528273b271row6_col11 {\n",
       "            background-color:  #5f7fe8;\n",
       "        }    #T_97958c10_e135_11ea_a1b1_3c528273b271row6_col12 {\n",
       "            background-color:  #f29072;\n",
       "        }    #T_97958c10_e135_11ea_a1b1_3c528273b271row6_col13 {\n",
       "            background-color:  #7ea1fa;\n",
       "        }    #T_97958c10_e135_11ea_a1b1_3c528273b271row7_col0 {\n",
       "            background-color:  #3c4ec2;\n",
       "        }    #T_97958c10_e135_11ea_a1b1_3c528273b271row7_col1 {\n",
       "            background-color:  #f08a6c;\n",
       "        }    #T_97958c10_e135_11ea_a1b1_3c528273b271row7_col2 {\n",
       "            background-color:  #3b4cc0;\n",
       "        }    #T_97958c10_e135_11ea_a1b1_3c528273b271row7_col3 {\n",
       "            background-color:  #4055c8;\n",
       "        }    #T_97958c10_e135_11ea_a1b1_3c528273b271row7_col4 {\n",
       "            background-color:  #3b4cc0;\n",
       "        }    #T_97958c10_e135_11ea_a1b1_3c528273b271row7_col5 {\n",
       "            background-color:  #dedcdb;\n",
       "        }    #T_97958c10_e135_11ea_a1b1_3c528273b271row7_col6 {\n",
       "            background-color:  #3b4cc0;\n",
       "        }    #T_97958c10_e135_11ea_a1b1_3c528273b271row7_col7 {\n",
       "            background-color:  #b40426;\n",
       "        }    #T_97958c10_e135_11ea_a1b1_3c528273b271row7_col8 {\n",
       "            background-color:  #3b4cc0;\n",
       "        }    #T_97958c10_e135_11ea_a1b1_3c528273b271row7_col9 {\n",
       "            background-color:  #3b4cc0;\n",
       "        }    #T_97958c10_e135_11ea_a1b1_3c528273b271row7_col10 {\n",
       "            background-color:  #7597f6;\n",
       "        }    #T_97958c10_e135_11ea_a1b1_3c528273b271row7_col11 {\n",
       "            background-color:  #dfdbd9;\n",
       "        }    #T_97958c10_e135_11ea_a1b1_3c528273b271row7_col12 {\n",
       "            background-color:  #6687ed;\n",
       "        }    #T_97958c10_e135_11ea_a1b1_3c528273b271row7_col13 {\n",
       "            background-color:  #edd2c3;\n",
       "        }    #T_97958c10_e135_11ea_a1b1_3c528273b271row8_col0 {\n",
       "            background-color:  #f6a283;\n",
       "        }    #T_97958c10_e135_11ea_a1b1_3c528273b271row8_col1 {\n",
       "            background-color:  #6f92f3;\n",
       "        }    #T_97958c10_e135_11ea_a1b1_3c528273b271row8_col2 {\n",
       "            background-color:  #f39475;\n",
       "        }    #T_97958c10_e135_11ea_a1b1_3c528273b271row8_col3 {\n",
       "            background-color:  #5a78e4;\n",
       "        }    #T_97958c10_e135_11ea_a1b1_3c528273b271row8_col4 {\n",
       "            background-color:  #f18d6f;\n",
       "        }    #T_97958c10_e135_11ea_a1b1_3c528273b271row8_col5 {\n",
       "            background-color:  #8db0fe;\n",
       "        }    #T_97958c10_e135_11ea_a1b1_3c528273b271row8_col6 {\n",
       "            background-color:  #f7b093;\n",
       "        }    #T_97958c10_e135_11ea_a1b1_3c528273b271row8_col7 {\n",
       "            background-color:  #6b8df0;\n",
       "        }    #T_97958c10_e135_11ea_a1b1_3c528273b271row8_col8 {\n",
       "            background-color:  #b40426;\n",
       "        }    #T_97958c10_e135_11ea_a1b1_3c528273b271row8_col9 {\n",
       "            background-color:  #c83836;\n",
       "        }    #T_97958c10_e135_11ea_a1b1_3c528273b271row8_col10 {\n",
       "            background-color:  #f6bea4;\n",
       "        }    #T_97958c10_e135_11ea_a1b1_3c528273b271row8_col11 {\n",
       "            background-color:  #3b4cc0;\n",
       "        }    #T_97958c10_e135_11ea_a1b1_3c528273b271row8_col12 {\n",
       "            background-color:  #f7aa8c;\n",
       "        }    #T_97958c10_e135_11ea_a1b1_3c528273b271row8_col13 {\n",
       "            background-color:  #7da0f9;\n",
       "        }    #T_97958c10_e135_11ea_a1b1_3c528273b271row9_col0 {\n",
       "            background-color:  #f7ac8e;\n",
       "        }    #T_97958c10_e135_11ea_a1b1_3c528273b271row9_col1 {\n",
       "            background-color:  #6e90f2;\n",
       "        }    #T_97958c10_e135_11ea_a1b1_3c528273b271row9_col2 {\n",
       "            background-color:  #e67259;\n",
       "        }    #T_97958c10_e135_11ea_a1b1_3c528273b271row9_col3 {\n",
       "            background-color:  #516ddb;\n",
       "        }    #T_97958c10_e135_11ea_a1b1_3c528273b271row9_col4 {\n",
       "            background-color:  #ec7f63;\n",
       "        }    #T_97958c10_e135_11ea_a1b1_3c528273b271row9_col5 {\n",
       "            background-color:  #7b9ff9;\n",
       "        }    #T_97958c10_e135_11ea_a1b1_3c528273b271row9_col6 {\n",
       "            background-color:  #f7a688;\n",
       "        }    #T_97958c10_e135_11ea_a1b1_3c528273b271row9_col7 {\n",
       "            background-color:  #6384eb;\n",
       "        }    #T_97958c10_e135_11ea_a1b1_3c528273b271row9_col8 {\n",
       "            background-color:  #ca3b37;\n",
       "        }    #T_97958c10_e135_11ea_a1b1_3c528273b271row9_col9 {\n",
       "            background-color:  #b40426;\n",
       "        }    #T_97958c10_e135_11ea_a1b1_3c528273b271row9_col10 {\n",
       "            background-color:  #f6bfa6;\n",
       "        }    #T_97958c10_e135_11ea_a1b1_3c528273b271row9_col11 {\n",
       "            background-color:  #3b4cc0;\n",
       "        }    #T_97958c10_e135_11ea_a1b1_3c528273b271row9_col12 {\n",
       "            background-color:  #f59f80;\n",
       "        }    #T_97958c10_e135_11ea_a1b1_3c528273b271row9_col13 {\n",
       "            background-color:  #6b8df0;\n",
       "        }    #T_97958c10_e135_11ea_a1b1_3c528273b271row10_col0 {\n",
       "            background-color:  #dadce0;\n",
       "        }    #T_97958c10_e135_11ea_a1b1_3c528273b271row10_col1 {\n",
       "            background-color:  #5e7de7;\n",
       "        }    #T_97958c10_e135_11ea_a1b1_3c528273b271row10_col2 {\n",
       "            background-color:  #f5c0a7;\n",
       "        }    #T_97958c10_e135_11ea_a1b1_3c528273b271row10_col3 {\n",
       "            background-color:  #3b4cc0;\n",
       "        }    #T_97958c10_e135_11ea_a1b1_3c528273b271row10_col4 {\n",
       "            background-color:  #e7d7ce;\n",
       "        }    #T_97958c10_e135_11ea_a1b1_3c528273b271row10_col5 {\n",
       "            background-color:  #6c8ff1;\n",
       "        }    #T_97958c10_e135_11ea_a1b1_3c528273b271row10_col6 {\n",
       "            background-color:  #eed0c0;\n",
       "        }    #T_97958c10_e135_11ea_a1b1_3c528273b271row10_col7 {\n",
       "            background-color:  #9fbfff;\n",
       "        }    #T_97958c10_e135_11ea_a1b1_3c528273b271row10_col8 {\n",
       "            background-color:  #f6bfa6;\n",
       "        }    #T_97958c10_e135_11ea_a1b1_3c528273b271row10_col9 {\n",
       "            background-color:  #f6bda2;\n",
       "        }    #T_97958c10_e135_11ea_a1b1_3c528273b271row10_col10 {\n",
       "            background-color:  #b40426;\n",
       "        }    #T_97958c10_e135_11ea_a1b1_3c528273b271row10_col11 {\n",
       "            background-color:  #7699f6;\n",
       "        }    #T_97958c10_e135_11ea_a1b1_3c528273b271row10_col12 {\n",
       "            background-color:  #f5c0a7;\n",
       "        }    #T_97958c10_e135_11ea_a1b1_3c528273b271row10_col13 {\n",
       "            background-color:  #6384eb;\n",
       "        }    #T_97958c10_e135_11ea_a1b1_3c528273b271row11_col0 {\n",
       "            background-color:  #3b4cc0;\n",
       "        }    #T_97958c10_e135_11ea_a1b1_3c528273b271row11_col1 {\n",
       "            background-color:  #d6dce4;\n",
       "        }    #T_97958c10_e135_11ea_a1b1_3c528273b271row11_col2 {\n",
       "            background-color:  #7da0f9;\n",
       "        }    #T_97958c10_e135_11ea_a1b1_3c528273b271row11_col3 {\n",
       "            background-color:  #6a8bef;\n",
       "        }    #T_97958c10_e135_11ea_a1b1_3c528273b271row11_col4 {\n",
       "            background-color:  #82a6fb;\n",
       "        }    #T_97958c10_e135_11ea_a1b1_3c528273b271row11_col5 {\n",
       "            background-color:  #d2dbe8;\n",
       "        }    #T_97958c10_e135_11ea_a1b1_3c528273b271row11_col6 {\n",
       "            background-color:  #94b6ff;\n",
       "        }    #T_97958c10_e135_11ea_a1b1_3c528273b271row11_col7 {\n",
       "            background-color:  #f2cbb7;\n",
       "        }    #T_97958c10_e135_11ea_a1b1_3c528273b271row11_col8 {\n",
       "            background-color:  #445acc;\n",
       "        }    #T_97958c10_e135_11ea_a1b1_3c528273b271row11_col9 {\n",
       "            background-color:  #4c66d6;\n",
       "        }    #T_97958c10_e135_11ea_a1b1_3c528273b271row11_col10 {\n",
       "            background-color:  #82a6fb;\n",
       "        }    #T_97958c10_e135_11ea_a1b1_3c528273b271row11_col11 {\n",
       "            background-color:  #b40426;\n",
       "        }    #T_97958c10_e135_11ea_a1b1_3c528273b271row11_col12 {\n",
       "            background-color:  #80a3fa;\n",
       "        }    #T_97958c10_e135_11ea_a1b1_3c528273b271row11_col13 {\n",
       "            background-color:  #f3c7b1;\n",
       "        }    #T_97958c10_e135_11ea_a1b1_3c528273b271row12_col0 {\n",
       "            background-color:  #f2c9b4;\n",
       "        }    #T_97958c10_e135_11ea_a1b1_3c528273b271row12_col1 {\n",
       "            background-color:  #5977e3;\n",
       "        }    #T_97958c10_e135_11ea_a1b1_3c528273b271row12_col2 {\n",
       "            background-color:  #f29274;\n",
       "        }    #T_97958c10_e135_11ea_a1b1_3c528273b271row12_col3 {\n",
       "            background-color:  #4c66d6;\n",
       "        }    #T_97958c10_e135_11ea_a1b1_3c528273b271row12_col4 {\n",
       "            background-color:  #f29274;\n",
       "        }    #T_97958c10_e135_11ea_a1b1_3c528273b271row12_col5 {\n",
       "            background-color:  #3b4cc0;\n",
       "        }    #T_97958c10_e135_11ea_a1b1_3c528273b271row12_col6 {\n",
       "            background-color:  #f29072;\n",
       "        }    #T_97958c10_e135_11ea_a1b1_3c528273b271row12_col7 {\n",
       "            background-color:  #6b8df0;\n",
       "        }    #T_97958c10_e135_11ea_a1b1_3c528273b271row12_col8 {\n",
       "            background-color:  #f7ba9f;\n",
       "        }    #T_97958c10_e135_11ea_a1b1_3c528273b271row12_col9 {\n",
       "            background-color:  #f7ac8e;\n",
       "        }    #T_97958c10_e135_11ea_a1b1_3c528273b271row12_col10 {\n",
       "            background-color:  #efcebd;\n",
       "        }    #T_97958c10_e135_11ea_a1b1_3c528273b271row12_col11 {\n",
       "            background-color:  #4a63d3;\n",
       "        }    #T_97958c10_e135_11ea_a1b1_3c528273b271row12_col12 {\n",
       "            background-color:  #b40426;\n",
       "        }    #T_97958c10_e135_11ea_a1b1_3c528273b271row12_col13 {\n",
       "            background-color:  #3b4cc0;\n",
       "        }    #T_97958c10_e135_11ea_a1b1_3c528273b271row13_col0 {\n",
       "            background-color:  #3b4cc0;\n",
       "        }    #T_97958c10_e135_11ea_a1b1_3c528273b271row13_col1 {\n",
       "            background-color:  #f1cdba;\n",
       "        }    #T_97958c10_e135_11ea_a1b1_3c528273b271row13_col2 {\n",
       "            background-color:  #6384eb;\n",
       "        }    #T_97958c10_e135_11ea_a1b1_3c528273b271row13_col3 {\n",
       "            background-color:  #92b4fe;\n",
       "        }    #T_97958c10_e135_11ea_a1b1_3c528273b271row13_col4 {\n",
       "            background-color:  #799cf8;\n",
       "        }    #T_97958c10_e135_11ea_a1b1_3c528273b271row13_col5 {\n",
       "            background-color:  #ec7f63;\n",
       "        }    #T_97958c10_e135_11ea_a1b1_3c528273b271row13_col6 {\n",
       "            background-color:  #80a3fa;\n",
       "        }    #T_97958c10_e135_11ea_a1b1_3c528273b271row13_col7 {\n",
       "            background-color:  #eed0c0;\n",
       "        }    #T_97958c10_e135_11ea_a1b1_3c528273b271row13_col8 {\n",
       "            background-color:  #516ddb;\n",
       "        }    #T_97958c10_e135_11ea_a1b1_3c528273b271row13_col9 {\n",
       "            background-color:  #465ecf;\n",
       "        }    #T_97958c10_e135_11ea_a1b1_3c528273b271row13_col10 {\n",
       "            background-color:  #3b4cc0;\n",
       "        }    #T_97958c10_e135_11ea_a1b1_3c528273b271row13_col11 {\n",
       "            background-color:  #e6d7cf;\n",
       "        }    #T_97958c10_e135_11ea_a1b1_3c528273b271row13_col12 {\n",
       "            background-color:  #3b4cc0;\n",
       "        }    #T_97958c10_e135_11ea_a1b1_3c528273b271row13_col13 {\n",
       "            background-color:  #b40426;\n",
       "        }</style>  \n",
       "<table id=\"T_97958c10_e135_11ea_a1b1_3c528273b271\" > \n",
       "<thead>    <tr> \n",
       "        <th class=\"blank level0\" ></th> \n",
       "        <th class=\"col_heading level0 col0\" >CRIM</th> \n",
       "        <th class=\"col_heading level0 col1\" >ZN</th> \n",
       "        <th class=\"col_heading level0 col2\" >INDUS</th> \n",
       "        <th class=\"col_heading level0 col3\" >CHAS</th> \n",
       "        <th class=\"col_heading level0 col4\" >NOX</th> \n",
       "        <th class=\"col_heading level0 col5\" >RM</th> \n",
       "        <th class=\"col_heading level0 col6\" >AGE</th> \n",
       "        <th class=\"col_heading level0 col7\" >DIS</th> \n",
       "        <th class=\"col_heading level0 col8\" >RAD</th> \n",
       "        <th class=\"col_heading level0 col9\" >TAX</th> \n",
       "        <th class=\"col_heading level0 col10\" >PTRATIO</th> \n",
       "        <th class=\"col_heading level0 col11\" >B</th> \n",
       "        <th class=\"col_heading level0 col12\" >LSTAT</th> \n",
       "        <th class=\"col_heading level0 col13\" >MEDV</th> \n",
       "    </tr></thead> \n",
       "<tbody>    <tr> \n",
       "        <th id=\"T_97958c10_e135_11ea_a1b1_3c528273b271level0_row0\" class=\"row_heading level0 row0\" >CRIM</th> \n",
       "        <td id=\"T_97958c10_e135_11ea_a1b1_3c528273b271row0_col0\" class=\"data row0 col0\" >1</td> \n",
       "        <td id=\"T_97958c10_e135_11ea_a1b1_3c528273b271row0_col1\" class=\"data row0 col1\" >-0.2</td> \n",
       "        <td id=\"T_97958c10_e135_11ea_a1b1_3c528273b271row0_col2\" class=\"data row0 col2\" >0.41</td> \n",
       "        <td id=\"T_97958c10_e135_11ea_a1b1_3c528273b271row0_col3\" class=\"data row0 col3\" >-0.056</td> \n",
       "        <td id=\"T_97958c10_e135_11ea_a1b1_3c528273b271row0_col4\" class=\"data row0 col4\" >0.42</td> \n",
       "        <td id=\"T_97958c10_e135_11ea_a1b1_3c528273b271row0_col5\" class=\"data row0 col5\" >-0.22</td> \n",
       "        <td id=\"T_97958c10_e135_11ea_a1b1_3c528273b271row0_col6\" class=\"data row0 col6\" >0.35</td> \n",
       "        <td id=\"T_97958c10_e135_11ea_a1b1_3c528273b271row0_col7\" class=\"data row0 col7\" >-0.38</td> \n",
       "        <td id=\"T_97958c10_e135_11ea_a1b1_3c528273b271row0_col8\" class=\"data row0 col8\" >0.63</td> \n",
       "        <td id=\"T_97958c10_e135_11ea_a1b1_3c528273b271row0_col9\" class=\"data row0 col9\" >0.58</td> \n",
       "        <td id=\"T_97958c10_e135_11ea_a1b1_3c528273b271row0_col10\" class=\"data row0 col10\" >0.29</td> \n",
       "        <td id=\"T_97958c10_e135_11ea_a1b1_3c528273b271row0_col11\" class=\"data row0 col11\" >-0.39</td> \n",
       "        <td id=\"T_97958c10_e135_11ea_a1b1_3c528273b271row0_col12\" class=\"data row0 col12\" >0.46</td> \n",
       "        <td id=\"T_97958c10_e135_11ea_a1b1_3c528273b271row0_col13\" class=\"data row0 col13\" >-0.39</td> \n",
       "    </tr>    <tr> \n",
       "        <th id=\"T_97958c10_e135_11ea_a1b1_3c528273b271level0_row1\" class=\"row_heading level0 row1\" >ZN</th> \n",
       "        <td id=\"T_97958c10_e135_11ea_a1b1_3c528273b271row1_col0\" class=\"data row1 col0\" >-0.2</td> \n",
       "        <td id=\"T_97958c10_e135_11ea_a1b1_3c528273b271row1_col1\" class=\"data row1 col1\" >1</td> \n",
       "        <td id=\"T_97958c10_e135_11ea_a1b1_3c528273b271row1_col2\" class=\"data row1 col2\" >-0.53</td> \n",
       "        <td id=\"T_97958c10_e135_11ea_a1b1_3c528273b271row1_col3\" class=\"data row1 col3\" >-0.043</td> \n",
       "        <td id=\"T_97958c10_e135_11ea_a1b1_3c528273b271row1_col4\" class=\"data row1 col4\" >-0.52</td> \n",
       "        <td id=\"T_97958c10_e135_11ea_a1b1_3c528273b271row1_col5\" class=\"data row1 col5\" >0.31</td> \n",
       "        <td id=\"T_97958c10_e135_11ea_a1b1_3c528273b271row1_col6\" class=\"data row1 col6\" >-0.57</td> \n",
       "        <td id=\"T_97958c10_e135_11ea_a1b1_3c528273b271row1_col7\" class=\"data row1 col7\" >0.66</td> \n",
       "        <td id=\"T_97958c10_e135_11ea_a1b1_3c528273b271row1_col8\" class=\"data row1 col8\" >-0.31</td> \n",
       "        <td id=\"T_97958c10_e135_11ea_a1b1_3c528273b271row1_col9\" class=\"data row1 col9\" >-0.31</td> \n",
       "        <td id=\"T_97958c10_e135_11ea_a1b1_3c528273b271row1_col10\" class=\"data row1 col10\" >-0.39</td> \n",
       "        <td id=\"T_97958c10_e135_11ea_a1b1_3c528273b271row1_col11\" class=\"data row1 col11\" >0.18</td> \n",
       "        <td id=\"T_97958c10_e135_11ea_a1b1_3c528273b271row1_col12\" class=\"data row1 col12\" >-0.41</td> \n",
       "        <td id=\"T_97958c10_e135_11ea_a1b1_3c528273b271row1_col13\" class=\"data row1 col13\" >0.36</td> \n",
       "    </tr>    <tr> \n",
       "        <th id=\"T_97958c10_e135_11ea_a1b1_3c528273b271level0_row2\" class=\"row_heading level0 row2\" >INDUS</th> \n",
       "        <td id=\"T_97958c10_e135_11ea_a1b1_3c528273b271row2_col0\" class=\"data row2 col0\" >0.41</td> \n",
       "        <td id=\"T_97958c10_e135_11ea_a1b1_3c528273b271row2_col1\" class=\"data row2 col1\" >-0.53</td> \n",
       "        <td id=\"T_97958c10_e135_11ea_a1b1_3c528273b271row2_col2\" class=\"data row2 col2\" >1</td> \n",
       "        <td id=\"T_97958c10_e135_11ea_a1b1_3c528273b271row2_col3\" class=\"data row2 col3\" >0.063</td> \n",
       "        <td id=\"T_97958c10_e135_11ea_a1b1_3c528273b271row2_col4\" class=\"data row2 col4\" >0.76</td> \n",
       "        <td id=\"T_97958c10_e135_11ea_a1b1_3c528273b271row2_col5\" class=\"data row2 col5\" >-0.39</td> \n",
       "        <td id=\"T_97958c10_e135_11ea_a1b1_3c528273b271row2_col6\" class=\"data row2 col6\" >0.64</td> \n",
       "        <td id=\"T_97958c10_e135_11ea_a1b1_3c528273b271row2_col7\" class=\"data row2 col7\" >-0.71</td> \n",
       "        <td id=\"T_97958c10_e135_11ea_a1b1_3c528273b271row2_col8\" class=\"data row2 col8\" >0.6</td> \n",
       "        <td id=\"T_97958c10_e135_11ea_a1b1_3c528273b271row2_col9\" class=\"data row2 col9\" >0.72</td> \n",
       "        <td id=\"T_97958c10_e135_11ea_a1b1_3c528273b271row2_col10\" class=\"data row2 col10\" >0.38</td> \n",
       "        <td id=\"T_97958c10_e135_11ea_a1b1_3c528273b271row2_col11\" class=\"data row2 col11\" >-0.36</td> \n",
       "        <td id=\"T_97958c10_e135_11ea_a1b1_3c528273b271row2_col12\" class=\"data row2 col12\" >0.6</td> \n",
       "        <td id=\"T_97958c10_e135_11ea_a1b1_3c528273b271row2_col13\" class=\"data row2 col13\" >-0.48</td> \n",
       "    </tr>    <tr> \n",
       "        <th id=\"T_97958c10_e135_11ea_a1b1_3c528273b271level0_row3\" class=\"row_heading level0 row3\" >CHAS</th> \n",
       "        <td id=\"T_97958c10_e135_11ea_a1b1_3c528273b271row3_col0\" class=\"data row3 col0\" >-0.056</td> \n",
       "        <td id=\"T_97958c10_e135_11ea_a1b1_3c528273b271row3_col1\" class=\"data row3 col1\" >-0.043</td> \n",
       "        <td id=\"T_97958c10_e135_11ea_a1b1_3c528273b271row3_col2\" class=\"data row3 col2\" >0.063</td> \n",
       "        <td id=\"T_97958c10_e135_11ea_a1b1_3c528273b271row3_col3\" class=\"data row3 col3\" >1</td> \n",
       "        <td id=\"T_97958c10_e135_11ea_a1b1_3c528273b271row3_col4\" class=\"data row3 col4\" >0.091</td> \n",
       "        <td id=\"T_97958c10_e135_11ea_a1b1_3c528273b271row3_col5\" class=\"data row3 col5\" >0.091</td> \n",
       "        <td id=\"T_97958c10_e135_11ea_a1b1_3c528273b271row3_col6\" class=\"data row3 col6\" >0.087</td> \n",
       "        <td id=\"T_97958c10_e135_11ea_a1b1_3c528273b271row3_col7\" class=\"data row3 col7\" >-0.099</td> \n",
       "        <td id=\"T_97958c10_e135_11ea_a1b1_3c528273b271row3_col8\" class=\"data row3 col8\" >-0.0074</td> \n",
       "        <td id=\"T_97958c10_e135_11ea_a1b1_3c528273b271row3_col9\" class=\"data row3 col9\" >-0.036</td> \n",
       "        <td id=\"T_97958c10_e135_11ea_a1b1_3c528273b271row3_col10\" class=\"data row3 col10\" >-0.12</td> \n",
       "        <td id=\"T_97958c10_e135_11ea_a1b1_3c528273b271row3_col11\" class=\"data row3 col11\" >0.049</td> \n",
       "        <td id=\"T_97958c10_e135_11ea_a1b1_3c528273b271row3_col12\" class=\"data row3 col12\" >-0.054</td> \n",
       "        <td id=\"T_97958c10_e135_11ea_a1b1_3c528273b271row3_col13\" class=\"data row3 col13\" >0.18</td> \n",
       "    </tr>    <tr> \n",
       "        <th id=\"T_97958c10_e135_11ea_a1b1_3c528273b271level0_row4\" class=\"row_heading level0 row4\" >NOX</th> \n",
       "        <td id=\"T_97958c10_e135_11ea_a1b1_3c528273b271row4_col0\" class=\"data row4 col0\" >0.42</td> \n",
       "        <td id=\"T_97958c10_e135_11ea_a1b1_3c528273b271row4_col1\" class=\"data row4 col1\" >-0.52</td> \n",
       "        <td id=\"T_97958c10_e135_11ea_a1b1_3c528273b271row4_col2\" class=\"data row4 col2\" >0.76</td> \n",
       "        <td id=\"T_97958c10_e135_11ea_a1b1_3c528273b271row4_col3\" class=\"data row4 col3\" >0.091</td> \n",
       "        <td id=\"T_97958c10_e135_11ea_a1b1_3c528273b271row4_col4\" class=\"data row4 col4\" >1</td> \n",
       "        <td id=\"T_97958c10_e135_11ea_a1b1_3c528273b271row4_col5\" class=\"data row4 col5\" >-0.3</td> \n",
       "        <td id=\"T_97958c10_e135_11ea_a1b1_3c528273b271row4_col6\" class=\"data row4 col6\" >0.73</td> \n",
       "        <td id=\"T_97958c10_e135_11ea_a1b1_3c528273b271row4_col7\" class=\"data row4 col7\" >-0.77</td> \n",
       "        <td id=\"T_97958c10_e135_11ea_a1b1_3c528273b271row4_col8\" class=\"data row4 col8\" >0.61</td> \n",
       "        <td id=\"T_97958c10_e135_11ea_a1b1_3c528273b271row4_col9\" class=\"data row4 col9\" >0.67</td> \n",
       "        <td id=\"T_97958c10_e135_11ea_a1b1_3c528273b271row4_col10\" class=\"data row4 col10\" >0.19</td> \n",
       "        <td id=\"T_97958c10_e135_11ea_a1b1_3c528273b271row4_col11\" class=\"data row4 col11\" >-0.38</td> \n",
       "        <td id=\"T_97958c10_e135_11ea_a1b1_3c528273b271row4_col12\" class=\"data row4 col12\" >0.59</td> \n",
       "        <td id=\"T_97958c10_e135_11ea_a1b1_3c528273b271row4_col13\" class=\"data row4 col13\" >-0.43</td> \n",
       "    </tr>    <tr> \n",
       "        <th id=\"T_97958c10_e135_11ea_a1b1_3c528273b271level0_row5\" class=\"row_heading level0 row5\" >RM</th> \n",
       "        <td id=\"T_97958c10_e135_11ea_a1b1_3c528273b271row5_col0\" class=\"data row5 col0\" >-0.22</td> \n",
       "        <td id=\"T_97958c10_e135_11ea_a1b1_3c528273b271row5_col1\" class=\"data row5 col1\" >0.31</td> \n",
       "        <td id=\"T_97958c10_e135_11ea_a1b1_3c528273b271row5_col2\" class=\"data row5 col2\" >-0.39</td> \n",
       "        <td id=\"T_97958c10_e135_11ea_a1b1_3c528273b271row5_col3\" class=\"data row5 col3\" >0.091</td> \n",
       "        <td id=\"T_97958c10_e135_11ea_a1b1_3c528273b271row5_col4\" class=\"data row5 col4\" >-0.3</td> \n",
       "        <td id=\"T_97958c10_e135_11ea_a1b1_3c528273b271row5_col5\" class=\"data row5 col5\" >1</td> \n",
       "        <td id=\"T_97958c10_e135_11ea_a1b1_3c528273b271row5_col6\" class=\"data row5 col6\" >-0.24</td> \n",
       "        <td id=\"T_97958c10_e135_11ea_a1b1_3c528273b271row5_col7\" class=\"data row5 col7\" >0.21</td> \n",
       "        <td id=\"T_97958c10_e135_11ea_a1b1_3c528273b271row5_col8\" class=\"data row5 col8\" >-0.21</td> \n",
       "        <td id=\"T_97958c10_e135_11ea_a1b1_3c528273b271row5_col9\" class=\"data row5 col9\" >-0.29</td> \n",
       "        <td id=\"T_97958c10_e135_11ea_a1b1_3c528273b271row5_col10\" class=\"data row5 col10\" >-0.36</td> \n",
       "        <td id=\"T_97958c10_e135_11ea_a1b1_3c528273b271row5_col11\" class=\"data row5 col11\" >0.13</td> \n",
       "        <td id=\"T_97958c10_e135_11ea_a1b1_3c528273b271row5_col12\" class=\"data row5 col12\" >-0.61</td> \n",
       "        <td id=\"T_97958c10_e135_11ea_a1b1_3c528273b271row5_col13\" class=\"data row5 col13\" >0.7</td> \n",
       "    </tr>    <tr> \n",
       "        <th id=\"T_97958c10_e135_11ea_a1b1_3c528273b271level0_row6\" class=\"row_heading level0 row6\" >AGE</th> \n",
       "        <td id=\"T_97958c10_e135_11ea_a1b1_3c528273b271row6_col0\" class=\"data row6 col0\" >0.35</td> \n",
       "        <td id=\"T_97958c10_e135_11ea_a1b1_3c528273b271row6_col1\" class=\"data row6 col1\" >-0.57</td> \n",
       "        <td id=\"T_97958c10_e135_11ea_a1b1_3c528273b271row6_col2\" class=\"data row6 col2\" >0.64</td> \n",
       "        <td id=\"T_97958c10_e135_11ea_a1b1_3c528273b271row6_col3\" class=\"data row6 col3\" >0.087</td> \n",
       "        <td id=\"T_97958c10_e135_11ea_a1b1_3c528273b271row6_col4\" class=\"data row6 col4\" >0.73</td> \n",
       "        <td id=\"T_97958c10_e135_11ea_a1b1_3c528273b271row6_col5\" class=\"data row6 col5\" >-0.24</td> \n",
       "        <td id=\"T_97958c10_e135_11ea_a1b1_3c528273b271row6_col6\" class=\"data row6 col6\" >1</td> \n",
       "        <td id=\"T_97958c10_e135_11ea_a1b1_3c528273b271row6_col7\" class=\"data row6 col7\" >-0.75</td> \n",
       "        <td id=\"T_97958c10_e135_11ea_a1b1_3c528273b271row6_col8\" class=\"data row6 col8\" >0.46</td> \n",
       "        <td id=\"T_97958c10_e135_11ea_a1b1_3c528273b271row6_col9\" class=\"data row6 col9\" >0.51</td> \n",
       "        <td id=\"T_97958c10_e135_11ea_a1b1_3c528273b271row6_col10\" class=\"data row6 col10\" >0.26</td> \n",
       "        <td id=\"T_97958c10_e135_11ea_a1b1_3c528273b271row6_col11\" class=\"data row6 col11\" >-0.27</td> \n",
       "        <td id=\"T_97958c10_e135_11ea_a1b1_3c528273b271row6_col12\" class=\"data row6 col12\" >0.6</td> \n",
       "        <td id=\"T_97958c10_e135_11ea_a1b1_3c528273b271row6_col13\" class=\"data row6 col13\" >-0.38</td> \n",
       "    </tr>    <tr> \n",
       "        <th id=\"T_97958c10_e135_11ea_a1b1_3c528273b271level0_row7\" class=\"row_heading level0 row7\" >DIS</th> \n",
       "        <td id=\"T_97958c10_e135_11ea_a1b1_3c528273b271row7_col0\" class=\"data row7 col0\" >-0.38</td> \n",
       "        <td id=\"T_97958c10_e135_11ea_a1b1_3c528273b271row7_col1\" class=\"data row7 col1\" >0.66</td> \n",
       "        <td id=\"T_97958c10_e135_11ea_a1b1_3c528273b271row7_col2\" class=\"data row7 col2\" >-0.71</td> \n",
       "        <td id=\"T_97958c10_e135_11ea_a1b1_3c528273b271row7_col3\" class=\"data row7 col3\" >-0.099</td> \n",
       "        <td id=\"T_97958c10_e135_11ea_a1b1_3c528273b271row7_col4\" class=\"data row7 col4\" >-0.77</td> \n",
       "        <td id=\"T_97958c10_e135_11ea_a1b1_3c528273b271row7_col5\" class=\"data row7 col5\" >0.21</td> \n",
       "        <td id=\"T_97958c10_e135_11ea_a1b1_3c528273b271row7_col6\" class=\"data row7 col6\" >-0.75</td> \n",
       "        <td id=\"T_97958c10_e135_11ea_a1b1_3c528273b271row7_col7\" class=\"data row7 col7\" >1</td> \n",
       "        <td id=\"T_97958c10_e135_11ea_a1b1_3c528273b271row7_col8\" class=\"data row7 col8\" >-0.49</td> \n",
       "        <td id=\"T_97958c10_e135_11ea_a1b1_3c528273b271row7_col9\" class=\"data row7 col9\" >-0.53</td> \n",
       "        <td id=\"T_97958c10_e135_11ea_a1b1_3c528273b271row7_col10\" class=\"data row7 col10\" >-0.23</td> \n",
       "        <td id=\"T_97958c10_e135_11ea_a1b1_3c528273b271row7_col11\" class=\"data row7 col11\" >0.29</td> \n",
       "        <td id=\"T_97958c10_e135_11ea_a1b1_3c528273b271row7_col12\" class=\"data row7 col12\" >-0.5</td> \n",
       "        <td id=\"T_97958c10_e135_11ea_a1b1_3c528273b271row7_col13\" class=\"data row7 col13\" >0.25</td> \n",
       "    </tr>    <tr> \n",
       "        <th id=\"T_97958c10_e135_11ea_a1b1_3c528273b271level0_row8\" class=\"row_heading level0 row8\" >RAD</th> \n",
       "        <td id=\"T_97958c10_e135_11ea_a1b1_3c528273b271row8_col0\" class=\"data row8 col0\" >0.63</td> \n",
       "        <td id=\"T_97958c10_e135_11ea_a1b1_3c528273b271row8_col1\" class=\"data row8 col1\" >-0.31</td> \n",
       "        <td id=\"T_97958c10_e135_11ea_a1b1_3c528273b271row8_col2\" class=\"data row8 col2\" >0.6</td> \n",
       "        <td id=\"T_97958c10_e135_11ea_a1b1_3c528273b271row8_col3\" class=\"data row8 col3\" >-0.0074</td> \n",
       "        <td id=\"T_97958c10_e135_11ea_a1b1_3c528273b271row8_col4\" class=\"data row8 col4\" >0.61</td> \n",
       "        <td id=\"T_97958c10_e135_11ea_a1b1_3c528273b271row8_col5\" class=\"data row8 col5\" >-0.21</td> \n",
       "        <td id=\"T_97958c10_e135_11ea_a1b1_3c528273b271row8_col6\" class=\"data row8 col6\" >0.46</td> \n",
       "        <td id=\"T_97958c10_e135_11ea_a1b1_3c528273b271row8_col7\" class=\"data row8 col7\" >-0.49</td> \n",
       "        <td id=\"T_97958c10_e135_11ea_a1b1_3c528273b271row8_col8\" class=\"data row8 col8\" >1</td> \n",
       "        <td id=\"T_97958c10_e135_11ea_a1b1_3c528273b271row8_col9\" class=\"data row8 col9\" >0.91</td> \n",
       "        <td id=\"T_97958c10_e135_11ea_a1b1_3c528273b271row8_col10\" class=\"data row8 col10\" >0.46</td> \n",
       "        <td id=\"T_97958c10_e135_11ea_a1b1_3c528273b271row8_col11\" class=\"data row8 col11\" >-0.44</td> \n",
       "        <td id=\"T_97958c10_e135_11ea_a1b1_3c528273b271row8_col12\" class=\"data row8 col12\" >0.49</td> \n",
       "        <td id=\"T_97958c10_e135_11ea_a1b1_3c528273b271row8_col13\" class=\"data row8 col13\" >-0.38</td> \n",
       "    </tr>    <tr> \n",
       "        <th id=\"T_97958c10_e135_11ea_a1b1_3c528273b271level0_row9\" class=\"row_heading level0 row9\" >TAX</th> \n",
       "        <td id=\"T_97958c10_e135_11ea_a1b1_3c528273b271row9_col0\" class=\"data row9 col0\" >0.58</td> \n",
       "        <td id=\"T_97958c10_e135_11ea_a1b1_3c528273b271row9_col1\" class=\"data row9 col1\" >-0.31</td> \n",
       "        <td id=\"T_97958c10_e135_11ea_a1b1_3c528273b271row9_col2\" class=\"data row9 col2\" >0.72</td> \n",
       "        <td id=\"T_97958c10_e135_11ea_a1b1_3c528273b271row9_col3\" class=\"data row9 col3\" >-0.036</td> \n",
       "        <td id=\"T_97958c10_e135_11ea_a1b1_3c528273b271row9_col4\" class=\"data row9 col4\" >0.67</td> \n",
       "        <td id=\"T_97958c10_e135_11ea_a1b1_3c528273b271row9_col5\" class=\"data row9 col5\" >-0.29</td> \n",
       "        <td id=\"T_97958c10_e135_11ea_a1b1_3c528273b271row9_col6\" class=\"data row9 col6\" >0.51</td> \n",
       "        <td id=\"T_97958c10_e135_11ea_a1b1_3c528273b271row9_col7\" class=\"data row9 col7\" >-0.53</td> \n",
       "        <td id=\"T_97958c10_e135_11ea_a1b1_3c528273b271row9_col8\" class=\"data row9 col8\" >0.91</td> \n",
       "        <td id=\"T_97958c10_e135_11ea_a1b1_3c528273b271row9_col9\" class=\"data row9 col9\" >1</td> \n",
       "        <td id=\"T_97958c10_e135_11ea_a1b1_3c528273b271row9_col10\" class=\"data row9 col10\" >0.46</td> \n",
       "        <td id=\"T_97958c10_e135_11ea_a1b1_3c528273b271row9_col11\" class=\"data row9 col11\" >-0.44</td> \n",
       "        <td id=\"T_97958c10_e135_11ea_a1b1_3c528273b271row9_col12\" class=\"data row9 col12\" >0.54</td> \n",
       "        <td id=\"T_97958c10_e135_11ea_a1b1_3c528273b271row9_col13\" class=\"data row9 col13\" >-0.47</td> \n",
       "    </tr>    <tr> \n",
       "        <th id=\"T_97958c10_e135_11ea_a1b1_3c528273b271level0_row10\" class=\"row_heading level0 row10\" >PTRATIO</th> \n",
       "        <td id=\"T_97958c10_e135_11ea_a1b1_3c528273b271row10_col0\" class=\"data row10 col0\" >0.29</td> \n",
       "        <td id=\"T_97958c10_e135_11ea_a1b1_3c528273b271row10_col1\" class=\"data row10 col1\" >-0.39</td> \n",
       "        <td id=\"T_97958c10_e135_11ea_a1b1_3c528273b271row10_col2\" class=\"data row10 col2\" >0.38</td> \n",
       "        <td id=\"T_97958c10_e135_11ea_a1b1_3c528273b271row10_col3\" class=\"data row10 col3\" >-0.12</td> \n",
       "        <td id=\"T_97958c10_e135_11ea_a1b1_3c528273b271row10_col4\" class=\"data row10 col4\" >0.19</td> \n",
       "        <td id=\"T_97958c10_e135_11ea_a1b1_3c528273b271row10_col5\" class=\"data row10 col5\" >-0.36</td> \n",
       "        <td id=\"T_97958c10_e135_11ea_a1b1_3c528273b271row10_col6\" class=\"data row10 col6\" >0.26</td> \n",
       "        <td id=\"T_97958c10_e135_11ea_a1b1_3c528273b271row10_col7\" class=\"data row10 col7\" >-0.23</td> \n",
       "        <td id=\"T_97958c10_e135_11ea_a1b1_3c528273b271row10_col8\" class=\"data row10 col8\" >0.46</td> \n",
       "        <td id=\"T_97958c10_e135_11ea_a1b1_3c528273b271row10_col9\" class=\"data row10 col9\" >0.46</td> \n",
       "        <td id=\"T_97958c10_e135_11ea_a1b1_3c528273b271row10_col10\" class=\"data row10 col10\" >1</td> \n",
       "        <td id=\"T_97958c10_e135_11ea_a1b1_3c528273b271row10_col11\" class=\"data row10 col11\" >-0.18</td> \n",
       "        <td id=\"T_97958c10_e135_11ea_a1b1_3c528273b271row10_col12\" class=\"data row10 col12\" >0.37</td> \n",
       "        <td id=\"T_97958c10_e135_11ea_a1b1_3c528273b271row10_col13\" class=\"data row10 col13\" >-0.51</td> \n",
       "    </tr>    <tr> \n",
       "        <th id=\"T_97958c10_e135_11ea_a1b1_3c528273b271level0_row11\" class=\"row_heading level0 row11\" >B</th> \n",
       "        <td id=\"T_97958c10_e135_11ea_a1b1_3c528273b271row11_col0\" class=\"data row11 col0\" >-0.39</td> \n",
       "        <td id=\"T_97958c10_e135_11ea_a1b1_3c528273b271row11_col1\" class=\"data row11 col1\" >0.18</td> \n",
       "        <td id=\"T_97958c10_e135_11ea_a1b1_3c528273b271row11_col2\" class=\"data row11 col2\" >-0.36</td> \n",
       "        <td id=\"T_97958c10_e135_11ea_a1b1_3c528273b271row11_col3\" class=\"data row11 col3\" >0.049</td> \n",
       "        <td id=\"T_97958c10_e135_11ea_a1b1_3c528273b271row11_col4\" class=\"data row11 col4\" >-0.38</td> \n",
       "        <td id=\"T_97958c10_e135_11ea_a1b1_3c528273b271row11_col5\" class=\"data row11 col5\" >0.13</td> \n",
       "        <td id=\"T_97958c10_e135_11ea_a1b1_3c528273b271row11_col6\" class=\"data row11 col6\" >-0.27</td> \n",
       "        <td id=\"T_97958c10_e135_11ea_a1b1_3c528273b271row11_col7\" class=\"data row11 col7\" >0.29</td> \n",
       "        <td id=\"T_97958c10_e135_11ea_a1b1_3c528273b271row11_col8\" class=\"data row11 col8\" >-0.44</td> \n",
       "        <td id=\"T_97958c10_e135_11ea_a1b1_3c528273b271row11_col9\" class=\"data row11 col9\" >-0.44</td> \n",
       "        <td id=\"T_97958c10_e135_11ea_a1b1_3c528273b271row11_col10\" class=\"data row11 col10\" >-0.18</td> \n",
       "        <td id=\"T_97958c10_e135_11ea_a1b1_3c528273b271row11_col11\" class=\"data row11 col11\" >1</td> \n",
       "        <td id=\"T_97958c10_e135_11ea_a1b1_3c528273b271row11_col12\" class=\"data row11 col12\" >-0.37</td> \n",
       "        <td id=\"T_97958c10_e135_11ea_a1b1_3c528273b271row11_col13\" class=\"data row11 col13\" >0.33</td> \n",
       "    </tr>    <tr> \n",
       "        <th id=\"T_97958c10_e135_11ea_a1b1_3c528273b271level0_row12\" class=\"row_heading level0 row12\" >LSTAT</th> \n",
       "        <td id=\"T_97958c10_e135_11ea_a1b1_3c528273b271row12_col0\" class=\"data row12 col0\" >0.46</td> \n",
       "        <td id=\"T_97958c10_e135_11ea_a1b1_3c528273b271row12_col1\" class=\"data row12 col1\" >-0.41</td> \n",
       "        <td id=\"T_97958c10_e135_11ea_a1b1_3c528273b271row12_col2\" class=\"data row12 col2\" >0.6</td> \n",
       "        <td id=\"T_97958c10_e135_11ea_a1b1_3c528273b271row12_col3\" class=\"data row12 col3\" >-0.054</td> \n",
       "        <td id=\"T_97958c10_e135_11ea_a1b1_3c528273b271row12_col4\" class=\"data row12 col4\" >0.59</td> \n",
       "        <td id=\"T_97958c10_e135_11ea_a1b1_3c528273b271row12_col5\" class=\"data row12 col5\" >-0.61</td> \n",
       "        <td id=\"T_97958c10_e135_11ea_a1b1_3c528273b271row12_col6\" class=\"data row12 col6\" >0.6</td> \n",
       "        <td id=\"T_97958c10_e135_11ea_a1b1_3c528273b271row12_col7\" class=\"data row12 col7\" >-0.5</td> \n",
       "        <td id=\"T_97958c10_e135_11ea_a1b1_3c528273b271row12_col8\" class=\"data row12 col8\" >0.49</td> \n",
       "        <td id=\"T_97958c10_e135_11ea_a1b1_3c528273b271row12_col9\" class=\"data row12 col9\" >0.54</td> \n",
       "        <td id=\"T_97958c10_e135_11ea_a1b1_3c528273b271row12_col10\" class=\"data row12 col10\" >0.37</td> \n",
       "        <td id=\"T_97958c10_e135_11ea_a1b1_3c528273b271row12_col11\" class=\"data row12 col11\" >-0.37</td> \n",
       "        <td id=\"T_97958c10_e135_11ea_a1b1_3c528273b271row12_col12\" class=\"data row12 col12\" >1</td> \n",
       "        <td id=\"T_97958c10_e135_11ea_a1b1_3c528273b271row12_col13\" class=\"data row12 col13\" >-0.74</td> \n",
       "    </tr>    <tr> \n",
       "        <th id=\"T_97958c10_e135_11ea_a1b1_3c528273b271level0_row13\" class=\"row_heading level0 row13\" >MEDV</th> \n",
       "        <td id=\"T_97958c10_e135_11ea_a1b1_3c528273b271row13_col0\" class=\"data row13 col0\" >-0.39</td> \n",
       "        <td id=\"T_97958c10_e135_11ea_a1b1_3c528273b271row13_col1\" class=\"data row13 col1\" >0.36</td> \n",
       "        <td id=\"T_97958c10_e135_11ea_a1b1_3c528273b271row13_col2\" class=\"data row13 col2\" >-0.48</td> \n",
       "        <td id=\"T_97958c10_e135_11ea_a1b1_3c528273b271row13_col3\" class=\"data row13 col3\" >0.18</td> \n",
       "        <td id=\"T_97958c10_e135_11ea_a1b1_3c528273b271row13_col4\" class=\"data row13 col4\" >-0.43</td> \n",
       "        <td id=\"T_97958c10_e135_11ea_a1b1_3c528273b271row13_col5\" class=\"data row13 col5\" >0.7</td> \n",
       "        <td id=\"T_97958c10_e135_11ea_a1b1_3c528273b271row13_col6\" class=\"data row13 col6\" >-0.38</td> \n",
       "        <td id=\"T_97958c10_e135_11ea_a1b1_3c528273b271row13_col7\" class=\"data row13 col7\" >0.25</td> \n",
       "        <td id=\"T_97958c10_e135_11ea_a1b1_3c528273b271row13_col8\" class=\"data row13 col8\" >-0.38</td> \n",
       "        <td id=\"T_97958c10_e135_11ea_a1b1_3c528273b271row13_col9\" class=\"data row13 col9\" >-0.47</td> \n",
       "        <td id=\"T_97958c10_e135_11ea_a1b1_3c528273b271row13_col10\" class=\"data row13 col10\" >-0.51</td> \n",
       "        <td id=\"T_97958c10_e135_11ea_a1b1_3c528273b271row13_col11\" class=\"data row13 col11\" >0.33</td> \n",
       "        <td id=\"T_97958c10_e135_11ea_a1b1_3c528273b271row13_col12\" class=\"data row13 col12\" >-0.74</td> \n",
       "        <td id=\"T_97958c10_e135_11ea_a1b1_3c528273b271row13_col13\" class=\"data row13 col13\" >1</td> \n",
       "    </tr></tbody> \n",
       "</table> "
      ],
      "text/plain": [
       "<pandas.io.formats.style.Styler at 0x188e81ee668>"
      ]
     },
     "execution_count": 4,
     "metadata": {},
     "output_type": "execute_result"
    }
   ],
   "source": [
    "data.corr().style.background_gradient(cmap='coolwarm').set_precision(2)"
   ]
  },
  {
   "cell_type": "markdown",
   "metadata": {
    "colab_type": "text",
    "id": "111lURJGVrbU"
   },
   "source": [
    "Написать **линейную регрессию** на два атрибута. Допустим, мы хотим предсказать цену дома (MEDV) в Бостоне, зная что цена на дом имеет линейную зависимость с атрибутом LSTAT. "
   ]
  },
  {
   "cell_type": "markdown",
   "metadata": {
    "colab_type": "text",
    "id": "Naz_Byg1WKhm"
   },
   "source": [
    "\n",
    "\n",
    "1.   Разделить данные на 80% тренировочных, 20% тестовых\n",
    "2.   Составить модель линейной регрессии\n",
    "3.   Посчитать ошибку модели на тестовых данных\n",
    "4.   Сделать точечный график данных и полученной прямой линейной регрессии\n",
    "\n"
   ]
  },
  {
   "cell_type": "code",
   "execution_count": 61,
   "metadata": {},
   "outputs": [],
   "source": [
    "from sklearn.linear_model import LinearRegression\n",
    "model = LinearRegression()"
   ]
  },
  {
   "cell_type": "code",
   "execution_count": 65,
   "metadata": {},
   "outputs": [],
   "source": [
    "#Для sklearn сделаем reshape(-1,1) и преобразуем Series данные в numpy array\n",
    "medv = np.array(data['MEDV']).reshape(-1,1)\n",
    "lstat = np.array(data['LSTAT']).reshape(-1,1)"
   ]
  },
  {
   "cell_type": "code",
   "execution_count": 66,
   "metadata": {},
   "outputs": [],
   "source": [
    "# Разделим на 80% тренировочных и на 20% тестовых\n",
    "from sklearn.model_selection import train_test_split\n",
    "\n",
    "X_train, X_test, y_train, y_test = train_test_split(\n",
    "    lstat,\n",
    "    medv,\n",
    "    test_size = 0.2\n",
    ")"
   ]
  },
  {
   "cell_type": "code",
   "execution_count": 67,
   "metadata": {},
   "outputs": [],
   "source": [
    "# Обучим модель с помощью fit() метода\n",
    "model_fit = model.fit(X_train, y_train) "
   ]
  },
  {
   "cell_type": "code",
   "execution_count": 52,
   "metadata": {},
   "outputs": [],
   "source": [
    "# Посмотрим предсказания модели на тестируемых данных\n",
    "predicted_y = model.predict(X_test)"
   ]
  },
  {
   "cell_type": "code",
   "execution_count": 70,
   "metadata": {},
   "outputs": [
    {
     "name": "stdout",
     "output_type": "stream",
     "text": [
      "coefficient of determination: 0.5534206542789916\n"
     ]
    }
   ],
   "source": [
    "r_sq = model_fit.score(X_train, y_train)\n",
    "print('coefficient of determination:', r_sq)"
   ]
  },
  {
   "cell_type": "markdown",
   "metadata": {},
   "source": [
    "**Наша модель всего лишь на 55 % объясняет данные о цене на дом**"
   ]
  },
  {
   "cell_type": "code",
   "execution_count": 71,
   "metadata": {},
   "outputs": [
    {
     "name": "stdout",
     "output_type": "stream",
     "text": [
      "intercept: [34.26196265]\n",
      "slope: [[-0.92585979]]\n"
     ]
    }
   ],
   "source": [
    "print('intercept:', model.intercept_)\n",
    "print('slope:', model.coef_)"
   ]
  },
  {
   "cell_type": "markdown",
   "metadata": {},
   "source": [
    "значение $b_0 = 5.63$ показывает, что наша модель предсказывает ответ $5.63$, когда $x$ равно 0. Значение $b_1 = 0.54$ означает, что прогнозируемый ответ увеличивается на $0,54$, когда $x$ увеличивается на единицу."
   ]
  },
  {
   "cell_type": "code",
   "execution_count": 53,
   "metadata": {},
   "outputs": [
    {
     "name": "stdout",
     "output_type": "stream",
     "text": [
      "31.01145423187093\n",
      "4.215202320394026\n"
     ]
    }
   ],
   "source": [
    "# Посчитаем ошибку модели\n",
    "print(mean_squared_error(predicted_y, y_test))\n",
    "print(mean_absolute_error(predicted_y, y_test))"
   ]
  },
  {
   "cell_type": "code",
   "execution_count": 57,
   "metadata": {},
   "outputs": [
    {
     "data": {
      "image/png": "[encoded data removed]",
      "text/plain": [
       "<Figure size 432x288 with 1 Axes>"
      ]
     },
     "metadata": {
      "needs_background": "light"
     },
     "output_type": "display_data"
    }
   ],
   "source": [
    "plt.xlabel('lstat')\n",
    "plt.ylabel('medv')\n",
    "plt.title('Линейная регрессия')\n",
    "# Построим прямую для регрессии\n",
    "# Создадим 100 точек для предсказаний\n",
    "x = np.linspace(0, 50, 50)\n",
    "# Посчитаем предсказанные значения\n",
    "y = model.coef_*x + model.intercept_\n",
    "y = np.transpose(y)\n",
    "plt.plot(x,y)\n",
    "plt.plot(X_train, y_train, 'r.')\n",
    "plt.plot(X_test, y_test, 'go')\n",
    "plt.xlim(0,50)\n",
    "plt.ylim(0,60)\n",
    "plt.legend(['Прямая линейной регрессии', 'Тренировочные данные', 'Тестовые данные'])\n",
    "plt.show()"
   ]
  },
  {
   "cell_type": "markdown",
   "metadata": {},
   "source": [
    "Видим, что цена на дом имеет обратную прямую линейную зависимость от параметра LSTAT, который показывает долю менее статустных людей в округе. Чем больше бедных на районе, тем дешевле жилье"
   ]
  },
  {
   "cell_type": "markdown",
   "metadata": {
    "colab_type": "text",
    "id": "zqiJHPz7FUT2"
   },
   "source": [
    "# Happiness\n",
    "Загрузить таблицу Happiness report. Посчитать матрицу ковариаций попарно. "
   ]
  },
  {
   "cell_type": "code",
   "execution_count": 74,
   "metadata": {
    "colab": {
     "base_uri": "https://localhost:8080/",
     "height": 238
    },
    "colab_type": "code",
    "id": "4FVMs-hUiv4i",
    "outputId": "4f8bb858-e745-4832-e05a-a40c48f8fa8a"
   },
   "outputs": [
    {
     "data": {
      "text/html": [
       "<div>\n",
       "<style scoped>\n",
       "    .dataframe tbody tr th:only-of-type {\n",
       "        vertical-align: middle;\n",
       "    }\n",
       "\n",
       "    .dataframe tbody tr th {\n",
       "        vertical-align: top;\n",
       "    }\n",
       "\n",
       "    .dataframe thead th {\n",
       "        text-align: right;\n",
       "    }\n",
       "</style>\n",
       "<table border=\"1\" class=\"dataframe\">\n",
       "  <thead>\n",
       "    <tr style=\"text-align: right;\">\n",
       "      <th></th>\n",
       "      <th>Country (region)</th>\n",
       "      <th>Ladder</th>\n",
       "      <th>SD of Ladder</th>\n",
       "      <th>Positive affect</th>\n",
       "      <th>Negative affect</th>\n",
       "      <th>Social support</th>\n",
       "      <th>Freedom</th>\n",
       "      <th>Corruption</th>\n",
       "      <th>Generosity</th>\n",
       "      <th>Log of GDP\n",
       "per capita</th>\n",
       "      <th>Healthy life\n",
       "expectancy</th>\n",
       "    </tr>\n",
       "  </thead>\n",
       "  <tbody>\n",
       "    <tr>\n",
       "      <th>0</th>\n",
       "      <td>Finland</td>\n",
       "      <td>1</td>\n",
       "      <td>4</td>\n",
       "      <td>41.0</td>\n",
       "      <td>10.0</td>\n",
       "      <td>2.0</td>\n",
       "      <td>5.0</td>\n",
       "      <td>4.0</td>\n",
       "      <td>47.0</td>\n",
       "      <td>22.0</td>\n",
       "      <td>27.0</td>\n",
       "    </tr>\n",
       "    <tr>\n",
       "      <th>1</th>\n",
       "      <td>Denmark</td>\n",
       "      <td>2</td>\n",
       "      <td>13</td>\n",
       "      <td>24.0</td>\n",
       "      <td>26.0</td>\n",
       "      <td>4.0</td>\n",
       "      <td>6.0</td>\n",
       "      <td>3.0</td>\n",
       "      <td>22.0</td>\n",
       "      <td>14.0</td>\n",
       "      <td>23.0</td>\n",
       "    </tr>\n",
       "    <tr>\n",
       "      <th>2</th>\n",
       "      <td>Norway</td>\n",
       "      <td>3</td>\n",
       "      <td>8</td>\n",
       "      <td>16.0</td>\n",
       "      <td>29.0</td>\n",
       "      <td>3.0</td>\n",
       "      <td>3.0</td>\n",
       "      <td>8.0</td>\n",
       "      <td>11.0</td>\n",
       "      <td>7.0</td>\n",
       "      <td>12.0</td>\n",
       "    </tr>\n",
       "    <tr>\n",
       "      <th>3</th>\n",
       "      <td>Iceland</td>\n",
       "      <td>4</td>\n",
       "      <td>9</td>\n",
       "      <td>3.0</td>\n",
       "      <td>3.0</td>\n",
       "      <td>1.0</td>\n",
       "      <td>7.0</td>\n",
       "      <td>45.0</td>\n",
       "      <td>3.0</td>\n",
       "      <td>15.0</td>\n",
       "      <td>13.0</td>\n",
       "    </tr>\n",
       "    <tr>\n",
       "      <th>4</th>\n",
       "      <td>Netherlands</td>\n",
       "      <td>5</td>\n",
       "      <td>1</td>\n",
       "      <td>12.0</td>\n",
       "      <td>25.0</td>\n",
       "      <td>15.0</td>\n",
       "      <td>19.0</td>\n",
       "      <td>12.0</td>\n",
       "      <td>7.0</td>\n",
       "      <td>12.0</td>\n",
       "      <td>18.0</td>\n",
       "    </tr>\n",
       "  </tbody>\n",
       "</table>\n",
       "</div>"
      ],
      "text/plain": [
       "  Country (region)  Ladder  SD of Ladder  Positive affect  Negative affect  \\\n",
       "0          Finland       1             4             41.0             10.0   \n",
       "1          Denmark       2            13             24.0             26.0   \n",
       "2           Norway       3             8             16.0             29.0   \n",
       "3          Iceland       4             9              3.0              3.0   \n",
       "4      Netherlands       5             1             12.0             25.0   \n",
       "\n",
       "   Social support  Freedom  Corruption  Generosity  Log of GDP\\nper capita  \\\n",
       "0             2.0      5.0         4.0        47.0                    22.0   \n",
       "1             4.0      6.0         3.0        22.0                    14.0   \n",
       "2             3.0      3.0         8.0        11.0                     7.0   \n",
       "3             1.0      7.0        45.0         3.0                    15.0   \n",
       "4            15.0     19.0        12.0         7.0                    12.0   \n",
       "\n",
       "   Healthy life\\nexpectancy  \n",
       "0                      27.0  \n",
       "1                      23.0  \n",
       "2                      12.0  \n",
       "3                      13.0  \n",
       "4                      18.0  "
      ]
     },
     "execution_count": 74,
     "metadata": {},
     "output_type": "execute_result"
    }
   ],
   "source": [
    "url=\"http://yustiks.ru/dataset/world-happiness-report-2019.csv\"\n",
    "data=pd.read_csv(url)\n",
    "data.head()"
   ]
  },
  {
   "cell_type": "code",
   "execution_count": 75,
   "metadata": {},
   "outputs": [
    {
     "data": {
      "text/plain": [
       "Index(['Country (region)', 'Ladder', 'SD of Ladder', 'Positive affect',\n",
       "       'Negative affect', 'Social support', 'Freedom', 'Corruption',\n",
       "       'Generosity', 'Log of GDP\\nper capita', 'Healthy life\\nexpectancy'],\n",
       "      dtype='object')"
      ]
     },
     "execution_count": 75,
     "metadata": {},
     "output_type": "execute_result"
    }
   ],
   "source": [
    "data.columns"
   ]
  },
  {
   "cell_type": "markdown",
   "metadata": {
    "colab_type": "text",
    "id": "AEV-w8iDrzwl"
   },
   "source": [
    "Сколько в данной таблице отсутствующих значений? Написать ответ. Если есть отсутствующие значения в выборке country, убрать (drop)."
   ]
  },
  {
   "cell_type": "code",
   "execution_count": 87,
   "metadata": {},
   "outputs": [
    {
     "data": {
      "text/plain": [
       "Country (region)            0\n",
       "Ladder                      0\n",
       "SD of Ladder                0\n",
       "Positive affect             1\n",
       "Negative affect             1\n",
       "Social support              1\n",
       "Freedom                     1\n",
       "Corruption                  8\n",
       "Generosity                  1\n",
       "Log of GDP\\nper capita      4\n",
       "Healthy life\\nexpectancy    6\n",
       "dtype: int64"
      ]
     },
     "execution_count": 87,
     "metadata": {},
     "output_type": "execute_result"
    }
   ],
   "source": [
    "data.isnull().sum()"
   ]
  },
  {
   "cell_type": "code",
   "execution_count": 89,
   "metadata": {},
   "outputs": [
    {
     "data": {
      "text/plain": [
       "156"
      ]
     },
     "execution_count": 89,
     "metadata": {},
     "output_type": "execute_result"
    }
   ],
   "source": [
    "data['Country (region)'].nunique()"
   ]
  },
  {
   "cell_type": "code",
   "execution_count": 85,
   "metadata": {},
   "outputs": [
    {
     "data": {
      "text/plain": [
       "Country (region)            0\n",
       "Ladder                      0\n",
       "SD of Ladder                0\n",
       "Positive affect             0\n",
       "Negative affect             0\n",
       "Social support              0\n",
       "Freedom                     0\n",
       "Corruption                  0\n",
       "Generosity                  0\n",
       "Log of GDP\\nper capita      0\n",
       "Healthy life\\nexpectancy    0\n",
       "dtype: int64"
      ]
     },
     "execution_count": 85,
     "metadata": {},
     "output_type": "execute_result"
    }
   ],
   "source": [
    "df = data.dropna()\n",
    "df.isnull().sum()"
   ]
  },
  {
   "cell_type": "markdown",
   "metadata": {
    "colab_type": "text",
    "id": "Sa3-2X8RputT"
   },
   "source": [
    "Сколько стран в выборке? Написать ответ. "
   ]
  },
  {
   "cell_type": "code",
   "execution_count": 90,
   "metadata": {},
   "outputs": [
    {
     "data": {
      "text/plain": [
       "140"
      ]
     },
     "execution_count": 90,
     "metadata": {},
     "output_type": "execute_result"
    }
   ],
   "source": [
    "# после удаления пустных значений\n",
    "df['Country (region)'].nunique()"
   ]
  },
  {
   "cell_type": "markdown",
   "metadata": {
    "colab_type": "text",
    "id": "Xo3Q738TsMBV"
   },
   "source": [
    "Построить матрицу корреляций для таблицы. Какие можно сделать выводы?"
   ]
  },
  {
   "cell_type": "code",
   "execution_count": 91,
   "metadata": {},
   "outputs": [
    {
     "data": {
      "text/html": [
       "<style  type=\"text/css\" >\n",
       "    #T_8c68e612_e147_11ea_891a_3c528273b271row0_col0 {\n",
       "            background-color:  #b40426;\n",
       "        }    #T_8c68e612_e147_11ea_891a_3c528273b271row0_col1 {\n",
       "            background-color:  #e0dbd8;\n",
       "        }    #T_8c68e612_e147_11ea_891a_3c528273b271row0_col2 {\n",
       "            background-color:  #d3dbe7;\n",
       "        }    #T_8c68e612_e147_11ea_891a_3c528273b271row0_col3 {\n",
       "            background-color:  #cedaeb;\n",
       "        }    #T_8c68e612_e147_11ea_891a_3c528273b271row0_col4 {\n",
       "            background-color:  #ed8366;\n",
       "        }    #T_8c68e612_e147_11ea_891a_3c528273b271row0_col5 {\n",
       "            background-color:  #bfd3f6;\n",
       "        }    #T_8c68e612_e147_11ea_891a_3c528273b271row0_col6 {\n",
       "            background-color:  #5572df;\n",
       "        }    #T_8c68e612_e147_11ea_891a_3c528273b271row0_col7 {\n",
       "            background-color:  #98b9ff;\n",
       "        }    #T_8c68e612_e147_11ea_891a_3c528273b271row0_col8 {\n",
       "            background-color:  #f18d6f;\n",
       "        }    #T_8c68e612_e147_11ea_891a_3c528273b271row0_col9 {\n",
       "            background-color:  #ee8669;\n",
       "        }    #T_8c68e612_e147_11ea_891a_3c528273b271row1_col0 {\n",
       "            background-color:  #c9d7f0;\n",
       "        }    #T_8c68e612_e147_11ea_891a_3c528273b271row1_col1 {\n",
       "            background-color:  #b40426;\n",
       "        }    #T_8c68e612_e147_11ea_891a_3c528273b271row1_col2 {\n",
       "            background-color:  #3b4cc0;\n",
       "        }    #T_8c68e612_e147_11ea_891a_3c528273b271row1_col3 {\n",
       "            background-color:  #ebd3c6;\n",
       "        }    #T_8c68e612_e147_11ea_891a_3c528273b271row1_col4 {\n",
       "            background-color:  #e4d9d2;\n",
       "        }    #T_8c68e612_e147_11ea_891a_3c528273b271row1_col5 {\n",
       "            background-color:  #3b4cc0;\n",
       "        }    #T_8c68e612_e147_11ea_891a_3c528273b271row1_col6 {\n",
       "            background-color:  #6180e9;\n",
       "        }    #T_8c68e612_e147_11ea_891a_3c528273b271row1_col7 {\n",
       "            background-color:  #688aef;\n",
       "        }    #T_8c68e612_e147_11ea_891a_3c528273b271row1_col8 {\n",
       "            background-color:  #f0cdbb;\n",
       "        }    #T_8c68e612_e147_11ea_891a_3c528273b271row1_col9 {\n",
       "            background-color:  #edd1c2;\n",
       "        }    #T_8c68e612_e147_11ea_891a_3c528273b271row2_col0 {\n",
       "            background-color:  #b6cefa;\n",
       "        }    #T_8c68e612_e147_11ea_891a_3c528273b271row2_col1 {\n",
       "            background-color:  #3b4cc0;\n",
       "        }    #T_8c68e612_e147_11ea_891a_3c528273b271row2_col2 {\n",
       "            background-color:  #b40426;\n",
       "        }    #T_8c68e612_e147_11ea_891a_3c528273b271row2_col3 {\n",
       "            background-color:  #82a6fb;\n",
       "        }    #T_8c68e612_e147_11ea_891a_3c528273b271row2_col4 {\n",
       "            background-color:  #aac7fd;\n",
       "        }    #T_8c68e612_e147_11ea_891a_3c528273b271row2_col5 {\n",
       "            background-color:  #f1ccb8;\n",
       "        }    #T_8c68e612_e147_11ea_891a_3c528273b271row2_col6 {\n",
       "            background-color:  #5673e0;\n",
       "        }    #T_8c68e612_e147_11ea_891a_3c528273b271row2_col7 {\n",
       "            background-color:  #779af7;\n",
       "        }    #T_8c68e612_e147_11ea_891a_3c528273b271row2_col8 {\n",
       "            background-color:  #6b8df0;\n",
       "        }    #T_8c68e612_e147_11ea_891a_3c528273b271row2_col9 {\n",
       "            background-color:  #84a7fc;\n",
       "        }    #T_8c68e612_e147_11ea_891a_3c528273b271row3_col0 {\n",
       "            background-color:  #c3d5f4;\n",
       "        }    #T_8c68e612_e147_11ea_891a_3c528273b271row3_col1 {\n",
       "            background-color:  #f1ccb8;\n",
       "        }    #T_8c68e612_e147_11ea_891a_3c528273b271row3_col2 {\n",
       "            background-color:  #9abbff;\n",
       "        }    #T_8c68e612_e147_11ea_891a_3c528273b271row3_col3 {\n",
       "            background-color:  #b40426;\n",
       "        }    #T_8c68e612_e147_11ea_891a_3c528273b271row3_col4 {\n",
       "            background-color:  #f3c7b1;\n",
       "        }    #T_8c68e612_e147_11ea_891a_3c528273b271row3_col5 {\n",
       "            background-color:  #82a6fb;\n",
       "        }    #T_8c68e612_e147_11ea_891a_3c528273b271row3_col6 {\n",
       "            background-color:  #4055c8;\n",
       "        }    #T_8c68e612_e147_11ea_891a_3c528273b271row3_col7 {\n",
       "            background-color:  #5875e1;\n",
       "        }    #T_8c68e612_e147_11ea_891a_3c528273b271row3_col8 {\n",
       "            background-color:  #d4dbe6;\n",
       "        }    #T_8c68e612_e147_11ea_891a_3c528273b271row3_col9 {\n",
       "            background-color:  #c6d6f1;\n",
       "        }    #T_8c68e612_e147_11ea_891a_3c528273b271row4_col0 {\n",
       "            background-color:  #f08a6c;\n",
       "        }    #T_8c68e612_e147_11ea_891a_3c528273b271row4_col1 {\n",
       "            background-color:  #ebd3c6;\n",
       "        }    #T_8c68e612_e147_11ea_891a_3c528273b271row4_col2 {\n",
       "            background-color:  #b9d0f9;\n",
       "        }    #T_8c68e612_e147_11ea_891a_3c528273b271row4_col3 {\n",
       "            background-color:  #f2c9b4;\n",
       "        }    #T_8c68e612_e147_11ea_891a_3c528273b271row4_col4 {\n",
       "            background-color:  #b40426;\n",
       "        }    #T_8c68e612_e147_11ea_891a_3c528273b271row4_col5 {\n",
       "            background-color:  #9fbfff;\n",
       "        }    #T_8c68e612_e147_11ea_891a_3c528273b271row4_col6 {\n",
       "            background-color:  #3b4cc0;\n",
       "        }    #T_8c68e612_e147_11ea_891a_3c528273b271row4_col7 {\n",
       "            background-color:  #86a9fc;\n",
       "        }    #T_8c68e612_e147_11ea_891a_3c528273b271row4_col8 {\n",
       "            background-color:  #f39778;\n",
       "        }    #T_8c68e612_e147_11ea_891a_3c528273b271row4_col9 {\n",
       "            background-color:  #f7a889;\n",
       "        }    #T_8c68e612_e147_11ea_891a_3c528273b271row5_col0 {\n",
       "            background-color:  #c5d6f2;\n",
       "        }    #T_8c68e612_e147_11ea_891a_3c528273b271row5_col1 {\n",
       "            background-color:  #7396f5;\n",
       "        }    #T_8c68e612_e147_11ea_891a_3c528273b271row5_col2 {\n",
       "            background-color:  #f7b89c;\n",
       "        }    #T_8c68e612_e147_11ea_891a_3c528273b271row5_col3 {\n",
       "            background-color:  #9ebeff;\n",
       "        }    #T_8c68e612_e147_11ea_891a_3c528273b271row5_col4 {\n",
       "            background-color:  #bcd2f7;\n",
       "        }    #T_8c68e612_e147_11ea_891a_3c528273b271row5_col5 {\n",
       "            background-color:  #b40426;\n",
       "        }    #T_8c68e612_e147_11ea_891a_3c528273b271row5_col6 {\n",
       "            background-color:  #9fbfff;\n",
       "        }    #T_8c68e612_e147_11ea_891a_3c528273b271row5_col7 {\n",
       "            background-color:  #9fbfff;\n",
       "        }    #T_8c68e612_e147_11ea_891a_3c528273b271row5_col8 {\n",
       "            background-color:  #8badfd;\n",
       "        }    #T_8c68e612_e147_11ea_891a_3c528273b271row5_col9 {\n",
       "            background-color:  #a6c4fe;\n",
       "        }    #T_8c68e612_e147_11ea_891a_3c528273b271row6_col0 {\n",
       "            background-color:  #3b4cc0;\n",
       "        }    #T_8c68e612_e147_11ea_891a_3c528273b271row6_col1 {\n",
       "            background-color:  #7396f5;\n",
       "        }    #T_8c68e612_e147_11ea_891a_3c528273b271row6_col2 {\n",
       "            background-color:  #6a8bef;\n",
       "        }    #T_8c68e612_e147_11ea_891a_3c528273b271row6_col3 {\n",
       "            background-color:  #3b4cc0;\n",
       "        }    #T_8c68e612_e147_11ea_891a_3c528273b271row6_col4 {\n",
       "            background-color:  #3b4cc0;\n",
       "        }    #T_8c68e612_e147_11ea_891a_3c528273b271row6_col5 {\n",
       "            background-color:  #7ea1fa;\n",
       "        }    #T_8c68e612_e147_11ea_891a_3c528273b271row6_col6 {\n",
       "            background-color:  #b40426;\n",
       "        }    #T_8c68e612_e147_11ea_891a_3c528273b271row6_col7 {\n",
       "            background-color:  #3b4cc0;\n",
       "        }    #T_8c68e612_e147_11ea_891a_3c528273b271row6_col8 {\n",
       "            background-color:  #3b4cc0;\n",
       "        }    #T_8c68e612_e147_11ea_891a_3c528273b271row6_col9 {\n",
       "            background-color:  #3b4cc0;\n",
       "        }    #T_8c68e612_e147_11ea_891a_3c528273b271row7_col0 {\n",
       "            background-color:  #abc8fd;\n",
       "        }    #T_8c68e612_e147_11ea_891a_3c528273b271row7_col1 {\n",
       "            background-color:  #a7c5fe;\n",
       "        }    #T_8c68e612_e147_11ea_891a_3c528273b271row7_col2 {\n",
       "            background-color:  #b2ccfb;\n",
       "        }    #T_8c68e612_e147_11ea_891a_3c528273b271row7_col3 {\n",
       "            background-color:  #82a6fb;\n",
       "        }    #T_8c68e612_e147_11ea_891a_3c528273b271row7_col4 {\n",
       "            background-color:  #b1cbfc;\n",
       "        }    #T_8c68e612_e147_11ea_891a_3c528273b271row7_col5 {\n",
       "            background-color:  #a9c6fd;\n",
       "        }    #T_8c68e612_e147_11ea_891a_3c528273b271row7_col6 {\n",
       "            background-color:  #6b8df0;\n",
       "        }    #T_8c68e612_e147_11ea_891a_3c528273b271row7_col7 {\n",
       "            background-color:  #b40426;\n",
       "        }    #T_8c68e612_e147_11ea_891a_3c528273b271row7_col8 {\n",
       "            background-color:  #abc8fd;\n",
       "        }    #T_8c68e612_e147_11ea_891a_3c528273b271row7_col9 {\n",
       "            background-color:  #b2ccfb;\n",
       "        }    #T_8c68e612_e147_11ea_891a_3c528273b271row8_col0 {\n",
       "            background-color:  #f29274;\n",
       "        }    #T_8c68e612_e147_11ea_891a_3c528273b271row8_col1 {\n",
       "            background-color:  #f5c2aa;\n",
       "        }    #T_8c68e612_e147_11ea_891a_3c528273b271row8_col2 {\n",
       "            background-color:  #8badfd;\n",
       "        }    #T_8c68e612_e147_11ea_891a_3c528273b271row8_col3 {\n",
       "            background-color:  #d7dce3;\n",
       "        }    #T_8c68e612_e147_11ea_891a_3c528273b271row8_col4 {\n",
       "            background-color:  #f29274;\n",
       "        }    #T_8c68e612_e147_11ea_891a_3c528273b271row8_col5 {\n",
       "            background-color:  #7597f6;\n",
       "        }    #T_8c68e612_e147_11ea_891a_3c528273b271row8_col6 {\n",
       "            background-color:  #485fd1;\n",
       "        }    #T_8c68e612_e147_11ea_891a_3c528273b271row8_col7 {\n",
       "            background-color:  #8caffe;\n",
       "        }    #T_8c68e612_e147_11ea_891a_3c528273b271row8_col8 {\n",
       "            background-color:  #b40426;\n",
       "        }    #T_8c68e612_e147_11ea_891a_3c528273b271row8_col9 {\n",
       "            background-color:  #e36c55;\n",
       "        }    #T_8c68e612_e147_11ea_891a_3c528273b271row9_col0 {\n",
       "            background-color:  #f18f71;\n",
       "        }    #T_8c68e612_e147_11ea_891a_3c528273b271row9_col1 {\n",
       "            background-color:  #f2cab5;\n",
       "        }    #T_8c68e612_e147_11ea_891a_3c528273b271row9_col2 {\n",
       "            background-color:  #94b6ff;\n",
       "        }    #T_8c68e612_e147_11ea_891a_3c528273b271row9_col3 {\n",
       "            background-color:  #c3d5f4;\n",
       "        }    #T_8c68e612_e147_11ea_891a_3c528273b271row9_col4 {\n",
       "            background-color:  #f7a889;\n",
       "        }    #T_8c68e612_e147_11ea_891a_3c528273b271row9_col5 {\n",
       "            background-color:  #86a9fc;\n",
       "        }    #T_8c68e612_e147_11ea_891a_3c528273b271row9_col6 {\n",
       "            background-color:  #3b4cc0;\n",
       "        }    #T_8c68e612_e147_11ea_891a_3c528273b271row9_col7 {\n",
       "            background-color:  #89acfd;\n",
       "        }    #T_8c68e612_e147_11ea_891a_3c528273b271row9_col8 {\n",
       "            background-color:  #e46e56;\n",
       "        }    #T_8c68e612_e147_11ea_891a_3c528273b271row9_col9 {\n",
       "            background-color:  #b40426;\n",
       "        }</style>  \n",
       "<table id=\"T_8c68e612_e147_11ea_891a_3c528273b271\" > \n",
       "<thead>    <tr> \n",
       "        <th class=\"blank level0\" ></th> \n",
       "        <th class=\"col_heading level0 col0\" >Ladder</th> \n",
       "        <th class=\"col_heading level0 col1\" >SD of Ladder</th> \n",
       "        <th class=\"col_heading level0 col2\" >Positive affect</th> \n",
       "        <th class=\"col_heading level0 col3\" >Negative affect</th> \n",
       "        <th class=\"col_heading level0 col4\" >Social support</th> \n",
       "        <th class=\"col_heading level0 col5\" >Freedom</th> \n",
       "        <th class=\"col_heading level0 col6\" >Corruption</th> \n",
       "        <th class=\"col_heading level0 col7\" >Generosity</th> \n",
       "        <th class=\"col_heading level0 col8\" >Log of GDP\n",
       "per capita</th> \n",
       "        <th class=\"col_heading level0 col9\" >Healthy life\n",
       "expectancy</th> \n",
       "    </tr></thead> \n",
       "<tbody>    <tr> \n",
       "        <th id=\"T_8c68e612_e147_11ea_891a_3c528273b271level0_row0\" class=\"row_heading level0 row0\" >Ladder</th> \n",
       "        <td id=\"T_8c68e612_e147_11ea_891a_3c528273b271row0_col0\" class=\"data row0 col0\" >1</td> \n",
       "        <td id=\"T_8c68e612_e147_11ea_891a_3c528273b271row0_col1\" class=\"data row0 col1\" >0.56</td> \n",
       "        <td id=\"T_8c68e612_e147_11ea_891a_3c528273b271row0_col2\" class=\"data row0 col2\" >0.51</td> \n",
       "        <td id=\"T_8c68e612_e147_11ea_891a_3c528273b271row0_col3\" class=\"data row0 col3\" >0.54</td> \n",
       "        <td id=\"T_8c68e612_e147_11ea_891a_3c528273b271row0_col4\" class=\"data row0 col4\" >0.83</td> \n",
       "        <td id=\"T_8c68e612_e147_11ea_891a_3c528273b271row0_col5\" class=\"data row0 col5\" >0.55</td> \n",
       "        <td id=\"T_8c68e612_e147_11ea_891a_3c528273b271row0_col6\" class=\"data row0 col6\" >0.22</td> \n",
       "        <td id=\"T_8c68e612_e147_11ea_891a_3c528273b271row0_col7\" class=\"data row0 col7\" >0.49</td> \n",
       "        <td id=\"T_8c68e612_e147_11ea_891a_3c528273b271row0_col8\" class=\"data row0 col8\" >0.82</td> \n",
       "        <td id=\"T_8c68e612_e147_11ea_891a_3c528273b271row0_col9\" class=\"data row0 col9\" >0.83</td> \n",
       "    </tr>    <tr> \n",
       "        <th id=\"T_8c68e612_e147_11ea_891a_3c528273b271level0_row1\" class=\"row_heading level0 row1\" >SD of Ladder</th> \n",
       "        <td id=\"T_8c68e612_e147_11ea_891a_3c528273b271row1_col0\" class=\"data row1 col0\" >0.56</td> \n",
       "        <td id=\"T_8c68e612_e147_11ea_891a_3c528273b271row1_col1\" class=\"data row1 col1\" >1</td> \n",
       "        <td id=\"T_8c68e612_e147_11ea_891a_3c528273b271row1_col2\" class=\"data row1 col2\" >0.09</td> \n",
       "        <td id=\"T_8c68e612_e147_11ea_891a_3c528273b271row1_col3\" class=\"data row1 col3\" >0.63</td> \n",
       "        <td id=\"T_8c68e612_e147_11ea_891a_3c528273b271row1_col4\" class=\"data row1 col4\" >0.6</td> \n",
       "        <td id=\"T_8c68e612_e147_11ea_891a_3c528273b271row1_col5\" class=\"data row1 col5\" >0.25</td> \n",
       "        <td id=\"T_8c68e612_e147_11ea_891a_3c528273b271row1_col6\" class=\"data row1 col6\" >0.25</td> \n",
       "        <td id=\"T_8c68e612_e147_11ea_891a_3c528273b271row1_col7\" class=\"data row1 col7\" >0.39</td> \n",
       "        <td id=\"T_8c68e612_e147_11ea_891a_3c528273b271row1_col8\" class=\"data row1 col8\" >0.66</td> \n",
       "        <td id=\"T_8c68e612_e147_11ea_891a_3c528273b271row1_col9\" class=\"data row1 col9\" >0.64</td> \n",
       "    </tr>    <tr> \n",
       "        <th id=\"T_8c68e612_e147_11ea_891a_3c528273b271level0_row2\" class=\"row_heading level0 row2\" >Positive affect</th> \n",
       "        <td id=\"T_8c68e612_e147_11ea_891a_3c528273b271row2_col0\" class=\"data row2 col0\" >0.51</td> \n",
       "        <td id=\"T_8c68e612_e147_11ea_891a_3c528273b271row2_col1\" class=\"data row2 col1\" >0.09</td> \n",
       "        <td id=\"T_8c68e612_e147_11ea_891a_3c528273b271row2_col2\" class=\"data row2 col2\" >1</td> \n",
       "        <td id=\"T_8c68e612_e147_11ea_891a_3c528273b271row2_col3\" class=\"data row2 col3\" >0.35</td> \n",
       "        <td id=\"T_8c68e612_e147_11ea_891a_3c528273b271row2_col4\" class=\"data row2 col4\" >0.43</td> \n",
       "        <td id=\"T_8c68e612_e147_11ea_891a_3c528273b271row2_col5\" class=\"data row2 col5\" >0.7</td> \n",
       "        <td id=\"T_8c68e612_e147_11ea_891a_3c528273b271row2_col6\" class=\"data row2 col6\" >0.23</td> \n",
       "        <td id=\"T_8c68e612_e147_11ea_891a_3c528273b271row2_col7\" class=\"data row2 col7\" >0.42</td> \n",
       "        <td id=\"T_8c68e612_e147_11ea_891a_3c528273b271row2_col8\" class=\"data row2 col8\" >0.31</td> \n",
       "        <td id=\"T_8c68e612_e147_11ea_891a_3c528273b271row2_col9\" class=\"data row2 col9\" >0.34</td> \n",
       "    </tr>    <tr> \n",
       "        <th id=\"T_8c68e612_e147_11ea_891a_3c528273b271level0_row3\" class=\"row_heading level0 row3\" >Negative affect</th> \n",
       "        <td id=\"T_8c68e612_e147_11ea_891a_3c528273b271row3_col0\" class=\"data row3 col0\" >0.54</td> \n",
       "        <td id=\"T_8c68e612_e147_11ea_891a_3c528273b271row3_col1\" class=\"data row3 col1\" >0.63</td> \n",
       "        <td id=\"T_8c68e612_e147_11ea_891a_3c528273b271row3_col2\" class=\"data row3 col2\" >0.35</td> \n",
       "        <td id=\"T_8c68e612_e147_11ea_891a_3c528273b271row3_col3\" class=\"data row3 col3\" >1</td> \n",
       "        <td id=\"T_8c68e612_e147_11ea_891a_3c528273b271row3_col4\" class=\"data row3 col4\" >0.67</td> \n",
       "        <td id=\"T_8c68e612_e147_11ea_891a_3c528273b271row3_col5\" class=\"data row3 col5\" >0.42</td> \n",
       "        <td id=\"T_8c68e612_e147_11ea_891a_3c528273b271row3_col6\" class=\"data row3 col6\" >0.17</td> \n",
       "        <td id=\"T_8c68e612_e147_11ea_891a_3c528273b271row3_col7\" class=\"data row3 col7\" >0.35</td> \n",
       "        <td id=\"T_8c68e612_e147_11ea_891a_3c528273b271row3_col8\" class=\"data row3 col8\" >0.57</td> \n",
       "        <td id=\"T_8c68e612_e147_11ea_891a_3c528273b271row3_col9\" class=\"data row3 col9\" >0.51</td> \n",
       "    </tr>    <tr> \n",
       "        <th id=\"T_8c68e612_e147_11ea_891a_3c528273b271level0_row4\" class=\"row_heading level0 row4\" >Social support</th> \n",
       "        <td id=\"T_8c68e612_e147_11ea_891a_3c528273b271row4_col0\" class=\"data row4 col0\" >0.83</td> \n",
       "        <td id=\"T_8c68e612_e147_11ea_891a_3c528273b271row4_col1\" class=\"data row4 col1\" >0.6</td> \n",
       "        <td id=\"T_8c68e612_e147_11ea_891a_3c528273b271row4_col2\" class=\"data row4 col2\" >0.43</td> \n",
       "        <td id=\"T_8c68e612_e147_11ea_891a_3c528273b271row4_col3\" class=\"data row4 col3\" >0.67</td> \n",
       "        <td id=\"T_8c68e612_e147_11ea_891a_3c528273b271row4_col4\" class=\"data row4 col4\" >1</td> \n",
       "        <td id=\"T_8c68e612_e147_11ea_891a_3c528273b271row4_col5\" class=\"data row4 col5\" >0.48</td> \n",
       "        <td id=\"T_8c68e612_e147_11ea_891a_3c528273b271row4_col6\" class=\"data row4 col6\" >0.15</td> \n",
       "        <td id=\"T_8c68e612_e147_11ea_891a_3c528273b271row4_col7\" class=\"data row4 col7\" >0.45</td> \n",
       "        <td id=\"T_8c68e612_e147_11ea_891a_3c528273b271row4_col8\" class=\"data row4 col8\" >0.8</td> \n",
       "        <td id=\"T_8c68e612_e147_11ea_891a_3c528273b271row4_col9\" class=\"data row4 col9\" >0.76</td> \n",
       "    </tr>    <tr> \n",
       "        <th id=\"T_8c68e612_e147_11ea_891a_3c528273b271level0_row5\" class=\"row_heading level0 row5\" >Freedom</th> \n",
       "        <td id=\"T_8c68e612_e147_11ea_891a_3c528273b271row5_col0\" class=\"data row5 col0\" >0.55</td> \n",
       "        <td id=\"T_8c68e612_e147_11ea_891a_3c528273b271row5_col1\" class=\"data row5 col1\" >0.25</td> \n",
       "        <td id=\"T_8c68e612_e147_11ea_891a_3c528273b271row5_col2\" class=\"data row5 col2\" >0.7</td> \n",
       "        <td id=\"T_8c68e612_e147_11ea_891a_3c528273b271row5_col3\" class=\"data row5 col3\" >0.42</td> \n",
       "        <td id=\"T_8c68e612_e147_11ea_891a_3c528273b271row5_col4\" class=\"data row5 col4\" >0.48</td> \n",
       "        <td id=\"T_8c68e612_e147_11ea_891a_3c528273b271row5_col5\" class=\"data row5 col5\" >1</td> \n",
       "        <td id=\"T_8c68e612_e147_11ea_891a_3c528273b271row5_col6\" class=\"data row5 col6\" >0.41</td> \n",
       "        <td id=\"T_8c68e612_e147_11ea_891a_3c528273b271row5_col7\" class=\"data row5 col7\" >0.5</td> \n",
       "        <td id=\"T_8c68e612_e147_11ea_891a_3c528273b271row5_col8\" class=\"data row5 col8\" >0.39</td> \n",
       "        <td id=\"T_8c68e612_e147_11ea_891a_3c528273b271row5_col9\" class=\"data row5 col9\" >0.42</td> \n",
       "    </tr>    <tr> \n",
       "        <th id=\"T_8c68e612_e147_11ea_891a_3c528273b271level0_row6\" class=\"row_heading level0 row6\" >Corruption</th> \n",
       "        <td id=\"T_8c68e612_e147_11ea_891a_3c528273b271row6_col0\" class=\"data row6 col0\" >0.22</td> \n",
       "        <td id=\"T_8c68e612_e147_11ea_891a_3c528273b271row6_col1\" class=\"data row6 col1\" >0.25</td> \n",
       "        <td id=\"T_8c68e612_e147_11ea_891a_3c528273b271row6_col2\" class=\"data row6 col2\" >0.23</td> \n",
       "        <td id=\"T_8c68e612_e147_11ea_891a_3c528273b271row6_col3\" class=\"data row6 col3\" >0.17</td> \n",
       "        <td id=\"T_8c68e612_e147_11ea_891a_3c528273b271row6_col4\" class=\"data row6 col4\" >0.15</td> \n",
       "        <td id=\"T_8c68e612_e147_11ea_891a_3c528273b271row6_col5\" class=\"data row6 col5\" >0.41</td> \n",
       "        <td id=\"T_8c68e612_e147_11ea_891a_3c528273b271row6_col6\" class=\"data row6 col6\" >1</td> \n",
       "        <td id=\"T_8c68e612_e147_11ea_891a_3c528273b271row6_col7\" class=\"data row6 col7\" >0.28</td> \n",
       "        <td id=\"T_8c68e612_e147_11ea_891a_3c528273b271row6_col8\" class=\"data row6 col8\" >0.19</td> \n",
       "        <td id=\"T_8c68e612_e147_11ea_891a_3c528273b271row6_col9\" class=\"data row6 col9\" >0.15</td> \n",
       "    </tr>    <tr> \n",
       "        <th id=\"T_8c68e612_e147_11ea_891a_3c528273b271level0_row7\" class=\"row_heading level0 row7\" >Generosity</th> \n",
       "        <td id=\"T_8c68e612_e147_11ea_891a_3c528273b271row7_col0\" class=\"data row7 col0\" >0.49</td> \n",
       "        <td id=\"T_8c68e612_e147_11ea_891a_3c528273b271row7_col1\" class=\"data row7 col1\" >0.39</td> \n",
       "        <td id=\"T_8c68e612_e147_11ea_891a_3c528273b271row7_col2\" class=\"data row7 col2\" >0.42</td> \n",
       "        <td id=\"T_8c68e612_e147_11ea_891a_3c528273b271row7_col3\" class=\"data row7 col3\" >0.35</td> \n",
       "        <td id=\"T_8c68e612_e147_11ea_891a_3c528273b271row7_col4\" class=\"data row7 col4\" >0.45</td> \n",
       "        <td id=\"T_8c68e612_e147_11ea_891a_3c528273b271row7_col5\" class=\"data row7 col5\" >0.5</td> \n",
       "        <td id=\"T_8c68e612_e147_11ea_891a_3c528273b271row7_col6\" class=\"data row7 col6\" >0.28</td> \n",
       "        <td id=\"T_8c68e612_e147_11ea_891a_3c528273b271row7_col7\" class=\"data row7 col7\" >1</td> \n",
       "        <td id=\"T_8c68e612_e147_11ea_891a_3c528273b271row7_col8\" class=\"data row7 col8\" >0.46</td> \n",
       "        <td id=\"T_8c68e612_e147_11ea_891a_3c528273b271row7_col9\" class=\"data row7 col9\" >0.45</td> \n",
       "    </tr>    <tr> \n",
       "        <th id=\"T_8c68e612_e147_11ea_891a_3c528273b271level0_row8\" class=\"row_heading level0 row8\" >Log of GDP\n",
       "per capita</th> \n",
       "        <td id=\"T_8c68e612_e147_11ea_891a_3c528273b271row8_col0\" class=\"data row8 col0\" >0.82</td> \n",
       "        <td id=\"T_8c68e612_e147_11ea_891a_3c528273b271row8_col1\" class=\"data row8 col1\" >0.66</td> \n",
       "        <td id=\"T_8c68e612_e147_11ea_891a_3c528273b271row8_col2\" class=\"data row8 col2\" >0.31</td> \n",
       "        <td id=\"T_8c68e612_e147_11ea_891a_3c528273b271row8_col3\" class=\"data row8 col3\" >0.57</td> \n",
       "        <td id=\"T_8c68e612_e147_11ea_891a_3c528273b271row8_col4\" class=\"data row8 col4\" >0.8</td> \n",
       "        <td id=\"T_8c68e612_e147_11ea_891a_3c528273b271row8_col5\" class=\"data row8 col5\" >0.39</td> \n",
       "        <td id=\"T_8c68e612_e147_11ea_891a_3c528273b271row8_col6\" class=\"data row8 col6\" >0.19</td> \n",
       "        <td id=\"T_8c68e612_e147_11ea_891a_3c528273b271row8_col7\" class=\"data row8 col7\" >0.46</td> \n",
       "        <td id=\"T_8c68e612_e147_11ea_891a_3c528273b271row8_col8\" class=\"data row8 col8\" >1</td> \n",
       "        <td id=\"T_8c68e612_e147_11ea_891a_3c528273b271row8_col9\" class=\"data row8 col9\" >0.87</td> \n",
       "    </tr>    <tr> \n",
       "        <th id=\"T_8c68e612_e147_11ea_891a_3c528273b271level0_row9\" class=\"row_heading level0 row9\" >Healthy life\n",
       "expectancy</th> \n",
       "        <td id=\"T_8c68e612_e147_11ea_891a_3c528273b271row9_col0\" class=\"data row9 col0\" >0.83</td> \n",
       "        <td id=\"T_8c68e612_e147_11ea_891a_3c528273b271row9_col1\" class=\"data row9 col1\" >0.64</td> \n",
       "        <td id=\"T_8c68e612_e147_11ea_891a_3c528273b271row9_col2\" class=\"data row9 col2\" >0.34</td> \n",
       "        <td id=\"T_8c68e612_e147_11ea_891a_3c528273b271row9_col3\" class=\"data row9 col3\" >0.51</td> \n",
       "        <td id=\"T_8c68e612_e147_11ea_891a_3c528273b271row9_col4\" class=\"data row9 col4\" >0.76</td> \n",
       "        <td id=\"T_8c68e612_e147_11ea_891a_3c528273b271row9_col5\" class=\"data row9 col5\" >0.42</td> \n",
       "        <td id=\"T_8c68e612_e147_11ea_891a_3c528273b271row9_col6\" class=\"data row9 col6\" >0.15</td> \n",
       "        <td id=\"T_8c68e612_e147_11ea_891a_3c528273b271row9_col7\" class=\"data row9 col7\" >0.45</td> \n",
       "        <td id=\"T_8c68e612_e147_11ea_891a_3c528273b271row9_col8\" class=\"data row9 col8\" >0.87</td> \n",
       "        <td id=\"T_8c68e612_e147_11ea_891a_3c528273b271row9_col9\" class=\"data row9 col9\" >1</td> \n",
       "    </tr></tbody> \n",
       "</table> "
      ],
      "text/plain": [
       "<pandas.io.formats.style.Styler at 0x188f59cb278>"
      ]
     },
     "execution_count": 91,
     "metadata": {},
     "output_type": "execute_result"
    }
   ],
   "source": [
    "df.corr().style.background_gradient(cmap='coolwarm').set_precision(2)"
   ]
  },
  {
   "cell_type": "markdown",
   "metadata": {},
   "source": [
    "* Ожидаемый возраст сильно зависит от ВВП, чем больше ВВП тем дольше люди живут\n",
    "* Уровень коррупции довольно сильно коррелирует с чувством свободы\n",
    "* Уровень положительных эмоций положительно коррелиует с чувством свободы"
   ]
  },
  {
   "cell_type": "markdown",
   "metadata": {
    "colab_type": "text",
    "id": "bwPmjFqesXOC"
   },
   "source": [
    "# Дискретное распределение случайной величины"
   ]
  },
  {
   "cell_type": "markdown",
   "metadata": {
    "colab_type": "text",
    "id": "5xwVwFr_s11_"
   },
   "source": [
    "Напишите код для моделирования 10 подбрасываний игрального кубика. Начертите диаграму histogram. Какое это распределение?"
   ]
  },
  {
   "cell_type": "markdown",
   "metadata": {
    "colab": {},
    "colab_type": "code",
    "id": "3EEu6ofKs0x7"
   },
   "source": [
    "#### Распределение Бернулли"
   ]
  },
  {
   "cell_type": "code",
   "execution_count": 94,
   "metadata": {},
   "outputs": [
    {
     "name": "stderr",
     "output_type": "stream",
     "text": [
      "C:\\Users\\Office8\\Anaconda3\\lib\\site-packages\\scipy\\stats\\stats.py:1713: FutureWarning: Using a non-tuple sequence for multidimensional indexing is deprecated; use `arr[tuple(seq)]` instead of `arr[seq]`. In the future this will be interpreted as an array index, `arr[np.array(seq)]`, which will result either in an error or a different result.\n",
      "  return np.add.reduce(sorted[indexer] * weights, axis=axis) / sumval\n"
     ]
    },
    {
     "data": {
      "image/png": "[encoded data removed]",
      "text/plain": [
       "<Figure size 432x288 with 1 Axes>"
      ]
     },
     "metadata": {
      "needs_background": "light"
     },
     "output_type": "display_data"
    }
   ],
   "source": [
    "# import seaborn\n",
    "data_bern = stats.bernoulli.rvs(size=10,p=0.3)\n",
    "ax= sns.distplot(data_bern,\n",
    "                 kde=False,\n",
    "                 color=\"skyblue\",\n",
    "                 hist_kws={\"linewidth\": 15,'alpha':1})\n",
    "ax.set(xlabel='Бернулли', ylabel='Вероятность')\n",
    "plt.title('Плотность рапределения Бернулли')\n",
    "plt.show()"
   ]
  },
  {
   "cell_type": "markdown",
   "metadata": {
    "colab_type": "text",
    "id": "irGnJ9bxtAor"
   },
   "source": [
    "Смоделируйте 1000 раз сумму по 100 подбрасываний. Начертите диаграму histogram. Почему график изменился? Почему можно применить центральную предельную теорему?"
   ]
  },
  {
   "cell_type": "code",
   "execution_count": 98,
   "metadata": {
    "colab": {},
    "colab_type": "code",
    "id": "v0It8sBStGcI"
   },
   "outputs": [
    {
     "data": {
      "text/plain": [
       "[Text(0,0.5,'Частота (плотность)'), Text(0.5,0,'Биноминальное распределение')]"
      ]
     },
     "execution_count": 98,
     "metadata": {},
     "output_type": "execute_result"
    },
    {
     "data": {
      "image/png": "[encoded data removed]",
      "text/plain": [
       "<Figure size 432x288 with 1 Axes>"
      ]
     },
     "metadata": {
      "needs_background": "light"
     },
     "output_type": "display_data"
    }
   ],
   "source": [
    "n, p = 100, .5  # number of trials, probability of each trial\n",
    "data_binom = stats.binom.rvs(n,p,size=10000)\n",
    "ax = sns.distplot(data_binom,\n",
    "                  kde=False,\n",
    "                  color='blue')\n",
    "ax.set(xlabel='Биноминальное распределение', ylabel='Частота (плотность)')"
   ]
  },
  {
   "cell_type": "markdown",
   "metadata": {},
   "source": [
    "Случайная величина Бернулли имеет два возможных результата: 0 или 1. Биномиальное распределение - это сумма независимых и одинаково распределенных случайных величин Бернулли.\n",
    "\n",
    "Если у меня есть монета, то при подбрасывании вероятность выпадения орла равна $p$. Таким образом, вероятность того, что выпадет решка, равна $1 - p$. Если монета выпадет орлом, то я выиграю олин рубль. Если выпадет решка, то ничего. Для одного подбрасывания монеты вероятность выиграть один рубль равна $p$. Случайная величина, которая представляет выигрыш после одного подбрасывания монеты, является случайной величиной Бернулли.\n",
    "\n",
    "Теперь, если я подброшу монету 5 раз, то выигрыш может составить любое целое число  от нуля до пяти рублей включительно. Вероятность того, что я выиграю 5 рублей, равна $p^5$, потому что каждое подбрасывание монеты не зависит от других, и для каждого подбрасывания монеты вероятность выпадения орла равна $p$. "
   ]
  }
 ],
 "metadata": {
  "colab": {
   "include_colab_link": true,
   "name": "dz_2.ipynb",
   "provenance": []
  },
  "kernelspec": {
   "display_name": "Python 3",
   "language": "python",
   "name": "python3"
  },
  "language_info": {
   "codemirror_mode": {
    "name": "ipython",
    "version": 3
   },
   "file_extension": ".py",
   "mimetype": "text/x-python",
   "name": "python",
   "nbconvert_exporter": "python",
   "pygments_lexer": "ipython3",
   "version": "3.7.1"
  }
 },
 "nbformat": 4,
 "nbformat_minor": 1
}
