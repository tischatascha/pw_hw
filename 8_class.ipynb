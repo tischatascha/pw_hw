{
 "cells": [
  {
   "cell_type": "markdown",
   "metadata": {},
   "source": [
    "# Задание 1\n",
    "\n",
    "Напишите функцию, которая возвращает название валюты (поле 'Name') с максимальным значением курса с помощью сервиса https://www.cbr-xml-daily.ru/daily_json.js\n"
   ]
  },
  {
   "cell_type": "code",
   "execution_count": 11,
   "metadata": {},
   "outputs": [],
   "source": [
    "import requests"
   ]
  },
  {
   "cell_type": "code",
   "execution_count": 114,
   "metadata": {},
   "outputs": [],
   "source": [
    "r = requests.get('https://www.cbr-xml-daily.ru/daily_json.js')\n",
    "dictionary = r.json()['Valute']"
   ]
  },
  {
   "cell_type": "code",
   "execution_count": 119,
   "metadata": {},
   "outputs": [],
   "source": [
    "def max_currency(data_dictionary):\n",
    "    \n",
    "        currency_list = list()\n",
    "        name = \"\"\n",
    "        \n",
    "        for key, value in data_dictionary.items():\n",
    "            \n",
    "            currency_list.append(value['Value'])\n",
    "            \n",
    "            if max(currency_list) == value['Value']:\n",
    "                \n",
    "                name = value[\"Name\"]\n",
    "                \n",
    "        return f'Валюта {name} с максимальным курсом {max(currency_list)}'"
   ]
  },
  {
   "cell_type": "code",
   "execution_count": 120,
   "metadata": {},
   "outputs": [
    {
     "data": {
      "text/plain": [
       "'Валюта СДР (специальные права заимствования) с максимальным курсом 101.037'"
      ]
     },
     "execution_count": 120,
     "metadata": {},
     "output_type": "execute_result"
    }
   ],
   "source": [
    "max_currency(dictionary)"
   ]
  },
  {
   "cell_type": "markdown",
   "metadata": {},
   "source": [
    "# Задание 2\n",
    "\n",
    "Добавьте в класс Rate параметр diff (со значениями True или False), который в случае значения True в методах курсов валют (eur, usd итд) будет возвращать не курс валюты, а изменение по сравнению в прошлым значением. Считайте, self.diff будет принимать значение True только при возврате значения курса. При отображении всей информации о валюте он не используется.\n"
   ]
  },
  {
   "cell_type": "code",
   "execution_count": 1,
   "metadata": {},
   "outputs": [],
   "source": [
    "import requests"
   ]
  },
  {
   "cell_type": "code",
   "execution_count": 158,
   "metadata": {},
   "outputs": [],
   "source": [
    "class Rate:\n",
    "    \"\"\"\n",
    "    \n",
    "    \"\"\"\n",
    "    def __init__(self, format_='value', diff_ = True):\n",
    "        self.format = format_\n",
    "        self.diff = diff_\n",
    "    \n",
    "    def exchange_rates(self):\n",
    "        self.r = requests.get('https://www.cbr-xml-daily.ru/daily_json.js')\n",
    "        return self.r.json()['Valute']\n",
    "    \n",
    "    def change_diff(self, diff):\n",
    "        self.diff = diff\n",
    "\n",
    "    def make_format(self, currency):\n",
    "        \"\"\"\n",
    "        Возвращает информацию о валюте currency в двух вариантах:\n",
    "        - полная информация о валюте при self.format = 'full':\n",
    "        Rate('full').make_format('EUR')\n",
    "        {\n",
    "            'CharCode': 'EUR',\n",
    "            'ID': 'R01239',\n",
    "            'Name': 'Евро',\n",
    "            'Nominal': 1,\n",
    "            'NumCode': '978',\n",
    "            'Previous': 79.6765,\n",
    "            'Value': 79.4966\n",
    "        }\n",
    "        \n",
    "        Rate('value').make_format('EUR')\n",
    "        79.4966\n",
    "        \"\"\"\n",
    "        response = self.exchange_rates()\n",
    "        \n",
    "        if currency in response:\n",
    "            \n",
    "            if self.format == 'full':\n",
    "                self.diff == True\n",
    "                return response[currency]\n",
    "            \n",
    "            if self.format == 'value':\n",
    "                return response[currency]['Value']\n",
    "            \n",
    "            if self.diff:\n",
    "                return response[currency]['Value']-response[currency]['Previous']    \n",
    "            \n",
    "        return 'Error'\n",
    "  \n",
    "    \n",
    "    def eur(self):\n",
    "        \"\"\"Возвращает курс евро на сегодня в формате self.format\"\"\"\n",
    "        return self.make_format('EUR')\n",
    "    \n",
    "    def usd(self):\n",
    "        return self.make_format('USD')\n",
    "    \n",
    "    def brl(self):\n",
    "        return self.make_format('BRL')\n",
    "    "
   ]
  },
  {
   "cell_type": "code",
   "execution_count": 159,
   "metadata": {},
   "outputs": [],
   "source": [
    "rate = Rate()"
   ]
  },
  {
   "cell_type": "code",
   "execution_count": 160,
   "metadata": {},
   "outputs": [
    {
     "data": {
      "text/plain": [
       "71.9196"
      ]
     },
     "execution_count": 160,
     "metadata": {},
     "output_type": "execute_result"
    }
   ],
   "source": [
    "# допустим, diff == True, выведет разницу\n",
    "rate.make_format('USD')"
   ]
  },
  {
   "cell_type": "code",
   "execution_count": 161,
   "metadata": {},
   "outputs": [],
   "source": [
    "## внутри метода меняем self.diff на противоположный\n",
    "rate.change_diff(False)"
   ]
  },
  {
   "cell_type": "code",
   "execution_count": 162,
   "metadata": {},
   "outputs": [
    {
     "data": {
      "text/plain": [
       "71.9196"
      ]
     },
     "execution_count": 162,
     "metadata": {},
     "output_type": "execute_result"
    }
   ],
   "source": [
    "# # выведет уже саму валюту, т.к. мы изменили значение self.diff выше\n",
    "rate.make_format('USD')"
   ]
  },
  {
   "cell_type": "code",
   "execution_count": null,
   "metadata": {},
   "outputs": [],
   "source": [
    "class James_Bond:\n",
    "    def __init__(self, is_incognito=True):\n",
    "    self.is_incognito = is_incognito\n",
    "    self.name = 'James Bond'\n",
    "    self.secret_name = 'anonymous'\n",
    "\n",
    "    def set_incognito(self, new_state):\n",
    "    self.is_incognito = new_state\n",
    "\n",
    "    def say_my_name(self):\n",
    "    if self.is_incognito:\n",
    "        print(f'I cant say my name! I am an {self.secret_name}')\n",
    "    \n",
    "    else:\n",
    "        print(f'My name is Bond. {self.name}')\n",
    "    \n",
    "\n",
    "agent = James_Bond()\n",
    "\n",
    "agent.say_my_name()\n",
    "\n",
    "agent.set_incognito(False)\n",
    "agent.say_my_name()\n",
    "\n",
    "agent.set_incognito(True)\n",
    "agent.say_my_name()\n",
    "agent.say_my_name()\n",
    "\n",
    "agent.set_incognito(False)\n",
    "agent.say_my_name()"
   ]
  },
  {
   "cell_type": "code",
   "execution_count": null,
   "metadata": {},
   "outputs": [],
   "source": [
    "# наследование\n",
    "\n",
    "class CurrencyDiff(Rate):\n",
    "    def __init__(self):\n",
    "        super().__init__(format_='full')\n",
    "    \n",
    "    # добавили свое\n",
    "    def diff(self, currency):\n",
    "        \n",
    "        \"\"\" параметр diff (со значениями True или False), который в случае значения True в методах курсов валют \n",
    "        eur, usd итд) будет возвращать не курс валюты, а изменение по сравнению в прошлым значением.\n",
    "        Считайте, self.diff будет принимать значение True только при возврате значения курса. \n",
    "        При отображении всей информации о валюте он не используется.\n",
    "        \"\"\"\n",
    "        \n",
    "        \n",
    "        return self.make_format(currency)['ID']\n",
    "    "
   ]
  },
  {
   "cell_type": "markdown",
   "metadata": {},
   "source": [
    "# Задание 3\n",
    "\n",
    "Напишите класс Designer, который учитывает количество международных премий. Подсказки в коде занятия в разделе \"Домашнее задание задача 3\"."
   ]
  }
 ],
 "metadata": {
  "kernelspec": {
   "display_name": "Python 3",
   "language": "python",
   "name": "python3"
  },
  "language_info": {
   "codemirror_mode": {
    "name": "ipython",
    "version": 3
   },
   "file_extension": ".py",
   "mimetype": "text/x-python",
   "name": "python",
   "nbconvert_exporter": "python",
   "pygments_lexer": "ipython3",
   "version": "3.7.1"
  }
 },
 "nbformat": 4,
 "nbformat_minor": 2
}
