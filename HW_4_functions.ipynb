{
 "cells": [
  {
   "cell_type": "markdown",
   "metadata": {},
   "source": [
    "Каталог документов хранится в следующем виде:"
   ]
  },
  {
   "cell_type": "markdown",
   "metadata": {},
   "source": [
    "Перечень полок, на которых находятся документы хранится в следующем виде:"
   ]
  },
  {
   "cell_type": "markdown",
   "metadata": {},
   "source": [
    "Необходимо реализовать пользовательские команды (внимание! это не название функций, которые должны быть выразительными, а команды, которые вводит пользователь, чтобы получить необходимый результат):\n",
    "* p – people – команда, которая спросит номер документа и выведет имя человека, которому он принадлежит;\n",
    "* s – shelf – команда, которая спросит номер документа и выведет номер полки, на которой он находится\n",
    "\n",
    "Правильно обработайте ситуации, когда пользователь будет вводить несуществующий документ.\n",
    "* l – list – команда, которая выведет список всех документов в формате passport \"2207 876234\" \"Василий Гупкин\"\n",
    "* as – add shelf – команда, которая спросит номер новой полки и добавит ее в перечень. \n",
    "\n",
    "Предусмотрите случай, когда пользователь добавляет полку, которая уже существует.\n",
    "* d – delete – команда, которая спросит номер документа и удалит его из каталога и из перечня полок. \n",
    "\n",
    "Предусмотрите сценарий, когда пользователь вводит несуществующий документ;\n",
    "* m – move – команда, которая спросит номер документа и целевую полку и переместит его с текущей полки на целевую. \n",
    "\n",
    "Корректно обработайте кейсы, когда пользователь пытается переместить несуществующий документ или переместить документ на несуществующую полку;\n",
    "* a – add – команда, которая добавит новый документ в каталог и в перечень полок, спросив его номер, тип, имя владельца и номер полки, на котором он будет храниться. \n",
    "\n",
    "Корректно обработайте ситуацию, когда пользователь будет пытаться добавить документ на несуществующую полку."
   ]
  },
  {
   "cell_type": "code",
   "execution_count": 40,
   "metadata": {},
   "outputs": [],
   "source": [
    "documents = [\n",
    "    {'type': 'passport', 'number': '2207 876234', 'name': 'Василий Гупкин'},\n",
    "    {'type': 'invoice', 'number': '11-2', 'name': 'Геннадий Покемонов'},\n",
    "    {'type': 'insurance', 'number': '10006', 'name': 'Аристарх Павлов'}\n",
    "]"
   ]
  },
  {
   "cell_type": "code",
   "execution_count": 45,
   "metadata": {},
   "outputs": [],
   "source": [
    "directories = {\n",
    "    '1': ['2207 876234', '11-2'],\n",
    "    '2': ['10006'],\n",
    "    '3': []\n",
    "}"
   ]
  },
  {
   "cell_type": "code",
   "execution_count": 187,
   "metadata": {},
   "outputs": [
    {
     "name": "stdout",
     "output_type": "stream",
     "text": [
      "Введите номер документа: 11-2\n",
      "['Геннадий Покемонов']\n"
     ]
    }
   ],
   "source": [
    "# команда, которая спросит номер документа и выведет имя человека, которому он принадлежит;\n",
    "def people():\n",
    "    doc_number = input('Введите номер документа: ')\n",
    "    name=[record['name'] for record in documents if doc_number in record['number']]\n",
    "    if name:\n",
    "        print(name)\n",
    "    else: \n",
    "        print('Документа не существует')         \n",
    "people()          "
   ]
  },
  {
   "cell_type": "code",
   "execution_count": 186,
   "metadata": {},
   "outputs": [
    {
     "name": "stdout",
     "output_type": "stream",
     "text": [
      "Введите номер документа: 99\n",
      "Документа не существует\n"
     ]
    }
   ],
   "source": [
    "#  команда, которая спросит номер документа и выведет номер полки, на которой он находится\n",
    "def shelf():\n",
    "    search_doc_number = input('Введите номер документа: ')\n",
    "    shelf_number = [shelf for shelf, doc_number in directories.items() if search_doc_number in doc_number]\n",
    "    if shelf_number:\n",
    "        print(shelf_number)\n",
    "    else: \n",
    "        print('Документа не существует')\n",
    "shelf()"
   ]
  },
  {
   "cell_type": "code",
   "execution_count": 234,
   "metadata": {},
   "outputs": [
    {
     "name": "stdout",
     "output_type": "stream",
     "text": [
      "passport 2207 876234 Василий Гупкин\n",
      "invoice 11-2 Геннадий Покемонов\n",
      "insurance 10006 Аристарх Павлов\n"
     ]
    }
   ],
   "source": [
    "# команда, которая выведет список всех документов в формате passport \"2207 876234\" \"Василий Гупкин\"\n",
    "def list_all():\n",
    "    docs =[]\n",
    "    for record in documents:\n",
    "        # Преобразование списка в строку\n",
    "        print(' '.join(record.values()))\n",
    "list_all()"
   ]
  },
  {
   "cell_type": "code",
   "execution_count": 77,
   "metadata": {},
   "outputs": [
    {
     "name": "stdout",
     "output_type": "stream",
     "text": [
      "Введите номер новой полки: 78\n",
      "Полка добавлена\n"
     ]
    },
    {
     "data": {
      "text/plain": [
       "dict_keys(['1', '2', '3', '99', '78'])"
      ]
     },
     "execution_count": 77,
     "metadata": {},
     "output_type": "execute_result"
    }
   ],
   "source": [
    "# команда, которая спросит номер новой полки и добавит ее в перечень\n",
    "def add_shelf():\n",
    "    new_shelf = input('Введите номер новой полки: ')\n",
    "    if new_shelf in directories.keys():\n",
    "        print('Полка уже существует')\n",
    "    else:\n",
    "        directories[new_shelf] = []\n",
    "        print('Полка добавлена')\n",
    "add_shelf()\n",
    "\n",
    "# check \n",
    "directories.keys()"
   ]
  },
  {
   "cell_type": "code",
   "execution_count": 75,
   "metadata": {},
   "outputs": [
    {
     "name": "stdout",
     "output_type": "stream",
     "text": [
      "Введите номер документа: 11-2\n",
      "Документ 11-2 удален из списка документов\n",
      "Документ 11-2 успешно удален с полки\n"
     ]
    }
   ],
   "source": [
    "# команда, которая спросит номер документа и удалит его из каталога и из перечня полок\n",
    "def delete_doc():\n",
    "    doc_number = input('Введите номер документа: ')\n",
    "    deleting = [documents.remove(record) for record in documents if doc_number in record['number']]\n",
    "    if deleting:\n",
    "        print('Документ', doc_number, 'удален из списка документов')\n",
    "    else:\n",
    "        print('Документ не существует в списке')\n",
    "    for value in directories.values():\n",
    "        for doc in value:\n",
    "            if doc in doc_number:\n",
    "                print('Документ', doc_number, 'успешно удален с полки')\n",
    "                return value.remove(doc_number)\n",
    "    return print('Документ не существует на полках')\n",
    "\n",
    "delete_doc()"
   ]
  },
  {
   "cell_type": "code",
   "execution_count": 43,
   "metadata": {},
   "outputs": [
    {
     "data": {
      "text/plain": [
       "dict_values([['2207 876234'], ['10006'], []])"
      ]
     },
     "execution_count": 43,
     "metadata": {},
     "output_type": "execute_result"
    }
   ],
   "source": [
    "#Check\n",
    "directories.values()"
   ]
  },
  {
   "cell_type": "code",
   "execution_count": 74,
   "metadata": {},
   "outputs": [
    {
     "ename": "IndentationError",
     "evalue": "expected an indented block (<ipython-input-74-4325542627d4>, line 12)",
     "output_type": "error",
     "traceback": [
      "\u001b[1;36m  File \u001b[1;32m\"<ipython-input-74-4325542627d4>\"\u001b[1;36m, line \u001b[1;32m12\u001b[0m\n\u001b[1;33m    if value != doc_number:\u001b[0m\n\u001b[1;37m     ^\u001b[0m\n\u001b[1;31mIndentationError\u001b[0m\u001b[1;31m:\u001b[0m expected an indented block\n"
     ]
    }
   ],
   "source": [
    "directories = {\n",
    "    '1': ['2207 876234', '11-2'],\n",
    "    '2': ['10006'],\n",
    "    '3': []\n",
    "}\n",
    "\n",
    "def test():\n",
    "    doc_number = input('Введите номер документа: ')\n",
    "    shelf_number_new = input('Введите номер полки: ')\n",
    "    for value in directories.values():\n",
    "        for doc in value:\n",
    "        if value != doc_number:\n",
    "            print('Документ', doc_number, 'не существует на полках')\n",
    "        else:  \n",
    "            directories[shelf_number_new]=doc_number\n",
    "            print('Документ', doc_number, 'moved')\n",
    "     \n",
    "test()"
   ]
  },
  {
   "cell_type": "code",
   "execution_count": 72,
   "metadata": {},
   "outputs": [
    {
     "ename": "SyntaxError",
     "evalue": "invalid syntax (<ipython-input-72-e0385f0dc849>, line 11)",
     "output_type": "error",
     "traceback": [
      "\u001b[1;36m  File \u001b[1;32m\"<ipython-input-72-e0385f0dc849>\"\u001b[1;36m, line \u001b[1;32m11\u001b[0m\n\u001b[1;33m    moving = [directories[shelf_number_new]=doc_number for doc in value if doc == doc_number]\u001b[0m\n\u001b[1;37m                                           ^\u001b[0m\n\u001b[1;31mSyntaxError\u001b[0m\u001b[1;31m:\u001b[0m invalid syntax\n"
     ]
    }
   ],
   "source": [
    "directories = {\n",
    "    '1': ['2207 876234', '11-2'],\n",
    "    '2': ['10006'],\n",
    "    '3': []\n",
    "}\n",
    "\n",
    "def test():\n",
    "    doc_number = input('Введите номер документа: ')\n",
    "    shelf_number_new = input('Введите номер полки: ')\n",
    "    for value in directories.values():\n",
    "        moving = [directories[shelf_number_new]=doc_number for doc in value if doc == doc_number]\n",
    "        if moving:\n",
    "            print('Документ', doc_number, 'moved')\n",
    "        else:  \n",
    "            print('Документ', doc_number, 'doesnt exit')\n",
    "     \n",
    "test()"
   ]
  },
  {
   "cell_type": "code",
   "execution_count": 46,
   "metadata": {},
   "outputs": [
    {
     "name": "stdout",
     "output_type": "stream",
     "text": [
      "Введите номер документа: 11-2\n",
      "Введите номер полки: 2\n",
      "Документа не существует\n"
     ]
    }
   ],
   "source": [
    "directories = {\n",
    "    '1': ['2207 876234', '11-2'],\n",
    "    '2': ['10006'],\n",
    "    '3': []\n",
    "}\n",
    "\n",
    "# команда, которая спросит номер документа и целевую полку и переместит его с текущей полки на целевую\n",
    "\n",
    "\n",
    "def move_doc():\n",
    "    doc_number = input('Введите номер документа: ')\n",
    "    shelf_number_new = input('Введите номер полки: ')\n",
    "    \n",
    "    #name=[record['name'] for record in documents if doc_number in record['number']]\n",
    "    #shelf_number = [shelf for shelf, doc_number in directories.items() if search_doc_number in doc_number]\n",
    "    \n",
    "    if shelf_number_new not in directories.keys():\n",
    "         print('Такой полки не существует')\n",
    "    elif doc_number not in directories.values():\n",
    "        print('Документа не существует')\n",
    "    else: \n",
    "        directories[shelf_number_new]=doc_number\n",
    "        print('Документ',doc_number,'успешно перемещен на полку', shelf_number_new)\n",
    "        \n",
    "        \n",
    "move_doc()"
   ]
  },
  {
   "cell_type": "code",
   "execution_count": null,
   "metadata": {},
   "outputs": [],
   "source": [
    "# команда добавит новый документ в каталог и в перечень полок, спросив его номер, тип, имя владельца и номер полки,\n",
    "# на котором он будет храниться.\n",
    "# Корректно обработайте ситуацию, когда пользователь будет пытаться добавить документ на несуществующую полку.\n",
    "def add_doc():\n",
    "    doc_number = input('Введите номер документа: ')\n",
    "    doc_type = input('Введите тип документа: ')\n",
    "    doc_name = input('Введите имя владельца: ')\n",
    "    doc_shelf = input('Введите номер полки: ')\n",
    "    \n",
    "    if doc_shelf not in directories.keys():\n",
    "        print('Такой полки не существует')\n",
    "    else:\n",
    "        directories[doc_shelf] = []\n",
    "    if doc_number not in directories.keys():\n",
    "        print('Такой полки не существует')\n",
    "        \n",
    "    else:\n",
    "        directories[new_shelf] = []\n",
    "        print('Документа не существует')\n",
    " \n",
    "\n",
    "    if doc_number in salaries:\n",
    "        print('Значение для ключа уже существует')\n",
    "else:\n",
    "    print('Добавляю новый ключ')\n",
    "    salaries[recruit] = 2200\n"
   ]
  },
  {
   "cell_type": "code",
   "execution_count": 3,
   "metadata": {},
   "outputs": [],
   "source": [
    "def main():\n",
    "    while True:\n",
    "        user_input = input('Введите команду: ')\n",
    "        if user_input=='p':\n",
    "            people()\n",
    "        elif user_input=='s':\n",
    "            shelf()\n",
    "        elif user_input=='l':\n",
    "            list_all()\n",
    "        elif user_input=='as':\n",
    "            add_shelf()\n",
    "        elif user_input=='d':\n",
    "            delete_doc()\n",
    "        elif user_input=='m':\n",
    "            move_doc()\n",
    "        elif user_input=='a':\n",
    "            add_doc()\n",
    "        elif user_input=='b':\n",
    "            break"
   ]
  }
 ],
 "metadata": {
  "kernelspec": {
   "display_name": "Python 3",
   "language": "python",
   "name": "python3"
  },
  "language_info": {
   "codemirror_mode": {
    "name": "ipython",
    "version": 3
   },
   "file_extension": ".py",
   "mimetype": "text/x-python",
   "name": "python",
   "nbconvert_exporter": "python",
   "pygments_lexer": "ipython3",
   "version": "3.7.1"
  }
 },
 "nbformat": 4,
 "nbformat_minor": 2
}
