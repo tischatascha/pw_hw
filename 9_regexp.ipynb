{
 "cells": [
  {
   "cell_type": "code",
   "execution_count": 1,
   "metadata": {},
   "outputs": [],
   "source": [
    "import re"
   ]
  },
  {
   "cell_type": "markdown",
   "metadata": {},
   "source": [
    "# Задание 1\n",
    "Напишите функцию, которая принимает на вход строку и проверяет является ли она валидным транспортным номером (1 буква, 3 цифры, 2 буквы, 2-3 цифры). Обратите внимание, что не все буквы кириллического алфавита используются в транспортных номерах.\n",
    "\n",
    "Если номер валиден, то функция должна возвращать отдельно номер и регион.\n",
    "\n",
    "Примеры работы программы:\n",
    "\n",
    "car_id = 'АВ222С96'\n",
    "\n",
    "Результат: Номер АВ222С валиден. Регион: 96\n",
    "\n",
    "car_id = 'АБ22ВВ193'\n",
    "\n",
    "Результат: Номер не валиден"
   ]
  },
  {
   "cell_type": "code",
   "execution_count": 3,
   "metadata": {},
   "outputs": [],
   "source": [
    "def check_car(car_id):\n",
    "    #car_id = input(\"Введите номер машины\")\n",
    "     \n",
    "    pattern = r'[а-яА-Я]{1}\\d{3}[а-яА-Я]{2}\\d{2,3}' \n",
    "    car = re.findall(r'^[а-яА-Я]{1}\\d{3}[а-яА-Я]{2}', car_id)[0]\n",
    "    \n",
    "    # takes last element from a list\n",
    "    region = re.findall(r'\\d{2,3}', car_id)[-1]   \n",
    "    \n",
    "    if re.findall(pattern, car_id):\n",
    "        print(f'Номер {car} валиден. Регион: {region}')\n",
    "    else:\n",
    "        print('Результат: Номер не валиден')"
   ]
  },
  {
   "cell_type": "code",
   "execution_count": 4,
   "metadata": {},
   "outputs": [
    {
     "name": "stdout",
     "output_type": "stream",
     "text": [
      "Номер О222АС валиден. Регион: 96\n"
     ]
    }
   ],
   "source": [
    "# пример для кириллицы\n",
    "# pattern: (1 буква, 3 цифры, 2 буквы, 2-3 цифры)\n",
    "\n",
    "check_car('О222АС96')"
   ]
  },
  {
   "cell_type": "markdown",
   "metadata": {},
   "source": [
    "# Задание 2\n",
    "\n",
    "Напишите функцию, которая будет удалять все последовательные повторы слов из заданной строки при помощи регулярных выражений.\n",
    "\n",
    "Пример работы программы:"
   ]
  },
  {
   "cell_type": "code",
   "execution_count": 5,
   "metadata": {},
   "outputs": [],
   "source": [
    "some_string = 'Напишите функцию функцию, которая будет будет будет будет удалять все все все все последовательные повторы слов из из из из заданной строки строки при помощи регулярных выражений'"
   ]
  },
  {
   "cell_type": "markdown",
   "metadata": {},
   "source": [
    "Результат: Напишите функцию, которая будет удалять все последовательные повторы слов из заданной строки при помощи регулярных выражений."
   ]
  },
  {
   "cell_type": "code",
   "execution_count": 14,
   "metadata": {},
   "outputs": [
    {
     "data": {
      "text/plain": [
       "'Напишите функцию, которая будет удалять все последовательные повторы слов из заданной строки при помощи регулярных выражений'"
      ]
     },
     "execution_count": 14,
     "metadata": {},
     "output_type": "execute_result"
    }
   ],
   "source": [
    "# r'\\1' - замена совпадение на то же самое слово но 1 раз\n",
    "re.sub(r'\\b([^\\W\\d_]+)(\\s+\\1)+\\b', r'\\1', some_string) "
   ]
  },
  {
   "cell_type": "markdown",
   "metadata": {},
   "source": [
    "# Задание 3\n",
    "Напишите функцию, которая будет возвращать акроним по переданной в нее строке со словами.\n",
    "\n",
    "Примеры работы программы:\n",
    "\n",
    "some_words = 'Информационные технологии'\n",
    "Результат: ИТ\n",
    "\n",
    "some_words = 'Near Field Communication'\n",
    "Результат: NFC"
   ]
  },
  {
   "cell_type": "code",
   "execution_count": 40,
   "metadata": {},
   "outputs": [],
   "source": [
    "some_words = 'Near Field Communication' "
   ]
  },
  {
   "cell_type": "code",
   "execution_count": 44,
   "metadata": {},
   "outputs": [
    {
     "name": "stdout",
     "output_type": "stream",
     "text": [
      "NFC\n"
     ]
    }
   ],
   "source": [
    "def acronym(string):\n",
    "    result = ''.join(re.findall(r'\\b\\w{1}', some_words)) \n",
    "    print(result.upper())\n",
    "    \n",
    "    \n",
    "acronym(some_words)"
   ]
  },
  {
   "cell_type": "markdown",
   "metadata": {},
   "source": [
    "# Задание 4\n",
    "\n",
    "Напишите функцию, которая будет принимать на вход список email-адресов и выводить их распределение по доменным зонам.\n",
    "\n",
    "Пример работы программы:"
   ]
  },
  {
   "cell_type": "code",
   "execution_count": 47,
   "metadata": {},
   "outputs": [],
   "source": [
    "emails = ['test@gmail.com', 'xyz@test.in', 'test@ya.ru', 'xyz@mail.ru', 'xyz@ya.ru', 'xyz@gmail.com']"
   ]
  },
  {
   "cell_type": "markdown",
   "metadata": {},
   "source": [
    "Результат:\n",
    "\n",
    "+ gmail.com: 2\n",
    "+ test.in: 1 \n",
    "+ ya.ru: 2 \n",
    "+ mail.ru: 1"
   ]
  },
  {
   "cell_type": "code",
   "execution_count": 95,
   "metadata": {},
   "outputs": [
    {
     "name": "stdout",
     "output_type": "stream",
     "text": [
      "{'@gmail.com': 2, '@test.in': 1, '@ya.ru': 2, '@mail.ru': 1}\n"
     ]
    }
   ],
   "source": [
    "def domain_frequency(emails_list): \n",
    "      \n",
    "    # creating an empty dictionary  \n",
    "    count = {} \n",
    "    \n",
    "    for email in emails:\n",
    "        domains = re.findall(r'@\\w+.\\w+',email) \n",
    "        \n",
    "        for dom in domains: \n",
    "            count[dom] = count.get(dom, 0) + 1\n",
    "    return count \n",
    "\n",
    "    \n",
    "print(domain_frequency(emails)) "
   ]
  },
  {
   "cell_type": "markdown",
   "metadata": {},
   "source": [
    "# Задание 5 (необязательное)\n",
    "Напишите функцию, которая будет подсчитывать сколько слов начинается на гласные, а сколько на согласные буквы в тексте (текст может быть написан как с использованием букв кириллицы, так и латиницы).\n",
    "\n",
    "Пример работы программы:"
   ]
  },
  {
   "cell_type": "code",
   "execution_count": 98,
   "metadata": {},
   "outputs": [],
   "source": [
    "some_text = 'Эталонной реализацией Python является интерпретатор CPython, поддерживающий большинство активно используемых платформ. Он распространяется под свободной лицензией Python Software Foundation License, позволяющей использовать его без ограничений в любых приложениях, включая проприетарные.'"
   ]
  },
  {
   "cell_type": "markdown",
   "metadata": {},
   "source": [
    "Результат:\n",
    "\n",
    "+ Слов на гласные буквы: 9\n",
    "+ Слов на согласные буквы: 21"
   ]
  },
  {
   "cell_type": "code",
   "execution_count": 203,
   "metadata": {},
   "outputs": [
    {
     "name": "stdout",
     "output_type": "stream",
     "text": [
      "Слов на гласные буквы: 9\n",
      "Слов на согласные буквы: 20\n",
      "И контрольный для проверки:29 должно быть равно общей длине 35\n"
     ]
    }
   ],
   "source": [
    "vouls = re.findall(r'\\b[aeiouAEIOUаеёиоуэюяАЕЁИОУЭЮЯ]\\w*', some_text)\n",
    "consonants = re.findall(r'\\b[^aeiouAEIOUаеёиоуэюяАЕЁИОУЭЮЯ ]\\w+', some_text)\n",
    "\n",
    "# посчитаем количество слов в тексте\n",
    "words=re.findall('\\w+', some_text)\n",
    "len(words)\n",
    "\n",
    "\n",
    "print(f'Слов на гласные буквы: {len(vouls)}')\n",
    "print(f'Слов на согласные буквы: {len(consonants)}')\n",
    "\n",
    "print(f'И контрольный для проверки:{len(vouls)+len(consonants)} должно быть равно общей длине {len(text)}')"
   ]
  },
  {
   "cell_type": "code",
   "execution_count": 206,
   "metadata": {},
   "outputs": [],
   "source": [
    "# в спсисок согласный точно не вошел предлог \"в\", я не поняла как для него написать паттерн\n",
    "\n",
    "\n",
    "# проверим, что не вошло в список\n",
    "\n",
    "for word in consonants:\n",
    "    if word not in words:\n",
    "        print(word)\n",
    "        \n",
    "for word in vouls:\n",
    "    if word not in words:\n",
    "        print(word)\n",
    "        \n",
    "# несоответсветие получается из-за некоторых разделителей.\n",
    "# теоритически можно пойти дальше и полностью полчистить текст от запятых, точек и т.д."
   ]
  },
  {
   "cell_type": "markdown",
   "metadata": {},
   "source": [
    "# Задание 6 (необязательное)\n",
    "Напишите функцию, которая будет проверять номер сотового телефона на валидность (только для российского формата), если он валиден, то переводить его в формат:\n",
    "+7-xxx-xxx-xx-xx\n",
    "Постарайтесь предусмотреть как можно больше адекватных форматов изначального ввода номера. Примеры работы программы:\n",
    "\n",
    "phone = '+7 955 555-55-55'\n",
    "Результат: +7-950-555-55-55\n",
    "\n",
    "phone = '8(955)555-55-55'\n",
    "Результат: +7-950-555-55-55\n",
    "\n",
    "phone = '+7 955 555 55 55'\n",
    "Результат: +7-950-555-55-55\n",
    "\n",
    "phone = '7(955) 555-55-55'\n",
    "Результат: +7-950-555-55-55\n",
    "\n",
    "phone = '423-555-55-5555'\n",
    "Результат: Номер не валиден\n",
    "\n",
    "phone = '123-456-789'\n",
    " Результат: Номер не валиден"
   ]
  },
  {
   "cell_type": "code",
   "execution_count": 57,
   "metadata": {},
   "outputs": [],
   "source": [
    "phones = ['+7 955 555-55-55', '8(955)555-55-55', '+7 955 555 55 55', '7(955) 555-55-55', '423-555-55-5555','123-456-789' ]\n",
    "\n",
    "def check_number(number):\n",
    "    \n",
    "    patterns = [r'\\+([7-8]){1}\\s(\\d{3})\\s(\\d{3})-(\\d{2})-(\\d{2})',\n",
    "                r'([7-8]){1}\\((\\d{3})\\)(\\d{3})-(\\d{2})-(\\d{2})',\n",
    "                r'\\+([7-8]){1}\\s(\\d{3})\\s(\\d{3})\\s(\\d{2})\\s(\\d{2})',\n",
    "                r'([7-8]){1}\\((\\d{3})\\)\\s(\\d{3})-(\\d{2})-(\\d{2})']\n",
    "\n",
    "    for number in phones: \n",
    "        for old_format in patterns:\n",
    "            if re.match(old_format, number):\n",
    "                new_format = re.sub(old_format, r'+7-\\2-\\3-\\4-\\5', number)\n",
    "                print(f'{new_format}')\n",
    "    else:\n",
    "        print(\"Номер не валиден\")\n"
   ]
  },
  {
   "cell_type": "code",
   "execution_count": 49,
   "metadata": {},
   "outputs": [],
   "source": [
    "# паттерны работают для всех телефон, но у меня что-то не так с лупом\n",
    "# по идее, луп должен проверять каждый телефон с каждым паттерном, \n",
    "# и в случае совпадения выдывать только новый формат"
   ]
  },
  {
   "cell_type": "code",
   "execution_count": 58,
   "metadata": {},
   "outputs": [
    {
     "name": "stdout",
     "output_type": "stream",
     "text": [
      "+7-955-555-55-55\n",
      "+7-955-555-55-55\n",
      "+7-955-555-55-55\n",
      "+7-955-555-55-55\n",
      "Номер не валиден\n"
     ]
    }
   ],
   "source": [
    "check_number(phones)"
   ]
  }
 ],
 "metadata": {
  "kernelspec": {
   "display_name": "Python 3",
   "language": "python",
   "name": "python3"
  },
  "language_info": {
   "codemirror_mode": {
    "name": "ipython",
    "version": 3
   },
   "file_extension": ".py",
   "mimetype": "text/x-python",
   "name": "python",
   "nbconvert_exporter": "python",
   "pygments_lexer": "ipython3",
   "version": "3.7.1"
  }
 },
 "nbformat": 4,
 "nbformat_minor": 2
}
