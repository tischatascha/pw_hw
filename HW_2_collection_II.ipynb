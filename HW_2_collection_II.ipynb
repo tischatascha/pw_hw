{
 "cells": [
  {
   "cell_type": "markdown",
   "metadata": {},
   "source": [
    "\n",
    "# Задача 1. \n",
    "\n",
    "Дано слово из латинских букв. Напишите скрипт, который выводит на экран букву из середины слова (если число букв нечетное). Если букв четное число, то на экран выводятся две буквы из середины.\n",
    "\n",
    "Пример: для 'test' должно выводится 'es', для 'testing' - 't'"
   ]
  },
  {
   "cell_type": "code",
   "execution_count": 17,
   "metadata": {},
   "outputs": [
    {
     "name": "stdout",
     "output_type": "stream",
     "text": [
      "Введите слово: test\n",
      "es\n"
     ]
    }
   ],
   "source": [
    "string = input('Введите слово: ')\n",
    "index = int(len(string)/2)\n",
    "if len(string) % 2 == 0:\n",
    "    print(string[index-1]+string[index])\n",
    "else:\n",
    "    print(string[index])"
   ]
  },
  {
   "cell_type": "markdown",
   "metadata": {},
   "source": [
    "# Задача 2. \n",
    "Мы делаем MVP dating-сервиса, и у нас есть список парней и девушек (их число может варьироваться):"
   ]
  },
  {
   "cell_type": "markdown",
   "metadata": {},
   "source": [
    "Выдвигаем гипотезу: лучшие рекомендации мы получим, если просто отсортируем имена по алфавиту и познакомим людей с одинаковыми индексами после сортировки! \"Познакомить\" пары нам поможет функция zip, а в цикле распакуем zip-объект и выведем информацию в виде:\n",
    "\n",
    "Идеальные пары:\n",
    "Alex и Emma\n",
    "Arthur и Kate\n",
    "John и Kira\n",
    "Peter и Liza\n",
    "Richard и Trisha\n",
    "\n",
    "Внимание! Если количество людей в списках будет не совпадать, то мы никого знакомить не будет и выведем пользователю предупреждение, что кто-то может остаться без пары!"
   ]
  },
  {
   "cell_type": "code",
   "execution_count": 6,
   "metadata": {},
   "outputs": [
    {
     "name": "stdout",
     "output_type": "stream",
     "text": [
      "('Alexa', 'Emma')\n",
      "('Anna', 'Kate')\n",
      "('Beth', 'Kira')\n",
      "('Rachel', 'Liza')\n",
      "('Sonya', 'Trisha')\n"
     ]
    }
   ],
   "source": [
    "girls_1 = ['Sonya', 'Alexa', 'Beth', 'Anna', 'Rachel']\n",
    "girls_2 = ['Kate', 'Liza', 'Kira', 'Emma', 'Trisha']\n",
    "\n",
    "# функция zip\n",
    "# сортировка строк по алфавиту\n",
    "girls_with_girls = list(zip(sorted(girls_1), sorted(girls_2)))\n",
    "\n",
    "if len(girls_1)==len(girls_2):\n",
    "    print(*girls_with_girls, sep = \"\\n\") \n",
    "else:\n",
    "    print('Количество людей не совпадает! Кто-то может остаться без пары')\n"
   ]
  },
  {
   "cell_type": "markdown",
   "metadata": {},
   "source": [
    "# Задача 3. \n",
    "У нас есть список, содержащий информацию о среднедневной температуре в Фаренгейтах за недельный период по странам. Необходимо написать код, который рассчитает среднюю температуру за неделю в Цельсиях для каждой страны."
   ]
  },
  {
   "cell_type": "code",
   "execution_count": 11,
   "metadata": {},
   "outputs": [],
   "source": [
    "countries_temperature = [\n",
    " ['Thailand', [75.2, 77, 78.8, 73.4, 68, 75.2, 77]],\n",
    " ['Germany', [57.2, 55.4, 59, 59, 53.6, 55.4, 57.2]],\n",
    " ['Russia', [35.6, 37.4, 39.2, 41, 42.8, 39.2, 35.6]],\n",
    " ['Poland', [50, 50, 53.6, 57.2, 55.4, 55.4, 51.8]],\n",
    "]"
   ]
  },
  {
   "cell_type": "code",
   "execution_count": 12,
   "metadata": {},
   "outputs": [
    {
     "name": "stdout",
     "output_type": "stream",
     "text": [
      "for a Thailand average weather for a week is 74.94 Celcium\n",
      "for a Germany average weather for a week is 56.69 Celcium\n",
      "for a Russia average weather for a week is 38.69 Celcium\n",
      "for a Poland average weather for a week is 53.34 Celcium\n"
     ]
    }
   ],
   "source": [
    "# итерация по спискам\n",
    "for country in countries_temperature:\n",
    "    print('for a', country[0], 'average weather for a week is', round(sum(country[1]) / len(country[1]),2), 'Celcium')"
   ]
  },
  {
   "cell_type": "markdown",
   "metadata": {},
   "source": [
    "# Задача 4. \n",
    "Дан поток логов по количеству просмотренных страниц для каждого пользователя. Список отсортирован по ID пользователя. Вам необходимо написать алгоритм, который считает среднее значение просмотров на пользователя. Т. е. надо посчитать отношение суммы всех просмотров к количеству уникальных пользователей."
   ]
  },
  {
   "cell_type": "code",
   "execution_count": 104,
   "metadata": {},
   "outputs": [],
   "source": [
    "stream = [\n",
    "    '2018-01-01,user1,3',\n",
    "    '2018-01-07,user1,4',\n",
    "    '2018-03-29,user1,1',\n",
    "    '2018-04-04,user1,13',\n",
    "    '2018-01-05,user2,7',\n",
    "    '2018-06-14,user3,4',\n",
    "    '2018-07-02,user3,10',\n",
    "    '2018-03-21,user4,19',\n",
    "    '2018-03-22,user4,4',\n",
    "    '2018-04-22,user4,8',\n",
    "    '2018-05-03,user4,9',\n",
    "    '2018-05-11,user4,11',\n",
    "]"
   ]
  },
  {
   "cell_type": "code",
   "execution_count": 105,
   "metadata": {},
   "outputs": [
    {
     "name": "stdout",
     "output_type": "stream",
     "text": [
      "Cреднее значение просмотров на пользователя составляет  23.25 просмотра\n"
     ]
    }
   ],
   "source": [
    "data = [] \n",
    "unique_users = []\n",
    "views_sum = []\n",
    "\n",
    "# split the data\n",
    "for track in stream:\n",
    "    data_list = track.split(',')\n",
    "    data.append(data_list)\n",
    "\n",
    "# calculate unique users     \n",
    "for user in data: \n",
    "    if user[1] not in unique_users: \n",
    "        unique_users.append(user[1]) \n",
    "        unique = len(unique_users)\n",
    "\n",
    "#calculate sum views \n",
    "for view in data:\n",
    "    views_sum.append(int(view[2]))\n",
    "    views = sum(views_sum) \n",
    "\n",
    "print('Cреднее значение просмотров на пользователя составляет ', (views/unique), 'просмотра')"
   ]
  }
 ],
 "metadata": {
  "kernelspec": {
   "display_name": "Python 3",
   "language": "python",
   "name": "python3"
  },
  "language_info": {
   "codemirror_mode": {
    "name": "ipython",
    "version": 3
   },
   "file_extension": ".py",
   "mimetype": "text/x-python",
   "name": "python",
   "nbconvert_exporter": "python",
   "pygments_lexer": "ipython3",
   "version": "3.7.6"
  }
 },
 "nbformat": 4,
 "nbformat_minor": 2
}
